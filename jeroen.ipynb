{
 "cells": [
  {
   "cell_type": "code",
   "execution_count": 2,
   "metadata": {},
   "outputs": [
    {
     "name": "stdout",
     "output_type": "stream",
     "text": [
      "C:\\Users\\u0115374\\Documents\\PhD\\Courses\\Big Data\\SparkStream\n"
     ]
    }
   ],
   "source": [
    "import os\n",
    "cwd = os.getcwd()\n",
    "print(cwd)"
   ]
  },
  {
   "cell_type": "code",
   "execution_count": 3,
   "metadata": {
    "pycharm": {
     "name": "#%%\n"
    }
   },
   "outputs": [
    {
     "name": "stdout",
     "output_type": "stream",
     "text": [
      "<DirEntry 'part-00000'>\n",
      "<DirEntry 'part-00001'>\n",
      "<DirEntry 'part-00002'>\n",
      "<DirEntry 'part-00003'>\n",
      "<DirEntry 'part-00004'>\n"
     ]
    }
   ],
   "source": [
    "for entry in os.scandir(cwd + '\\Data\\\\test'):\n",
    "    print(entry)"
   ]
  },
  {
   "cell_type": "code",
   "execution_count": 9,
   "metadata": {},
   "outputs": [],
   "source": []
  },
  {
   "cell_type": "code",
   "execution_count": 4,
   "metadata": {},
   "outputs": [
    {
     "ename": "OSError",
     "evalue": "[Errno 22] Invalid argument: 'C:\\\\Users\\\\u0115374\\\\Documents\\\\PhD\\\\Courses\\\\Big Data\\\\SparkStream\\\\Data\\\\test\\\\part-*'",
     "output_type": "error",
     "traceback": [
      "\u001b[1;31m---------------------------------------------------------------------------\u001b[0m",
      "\u001b[1;31mOSError\u001b[0m                                   Traceback (most recent call last)",
      "\u001b[1;32m<ipython-input-4-4e9a00ff4be9>\u001b[0m in \u001b[0;36m<module>\u001b[1;34m\u001b[0m\n\u001b[1;32m----> 1\u001b[1;33m \u001b[0mfile\u001b[0m \u001b[1;33m=\u001b[0m \u001b[0mopen\u001b[0m\u001b[1;33m(\u001b[0m\u001b[0mcwd\u001b[0m\u001b[1;33m+\u001b[0m\u001b[1;34m'\\Data\\\\test\\\\part-*'\u001b[0m\u001b[1;33m,\u001b[0m \u001b[1;34m'r'\u001b[0m\u001b[1;33m)\u001b[0m\u001b[1;33m\u001b[0m\u001b[1;33m\u001b[0m\u001b[0m\n\u001b[0m",
      "\u001b[1;31mOSError\u001b[0m: [Errno 22] Invalid argument: 'C:\\\\Users\\\\u0115374\\\\Documents\\\\PhD\\\\Courses\\\\Big Data\\\\SparkStream\\\\Data\\\\test\\\\part-*'"
     ]
    }
   ],
   "source": [
    "file = open(cwd+'\\Data\\\\test\\\\part-00000', 'r')"
   ]
  },
  {
   "cell_type": "code",
   "execution_count": 72,
   "metadata": {},
   "outputs": [
    {
     "name": "stdout",
     "output_type": "stream",
     "text": [
      "{\"title_page\": \"Rupert Kentish\", \"text_new\": \"{{Use dmy dates|date=December 2015}}\\n{{Use Australian English|date=December 2015}}\\n[[File:Rupert Kentish.jpg|thumb|200px|Kentish in 1976]]\\n'''Rupert James Kentish''' (26 June 1914 &ndash; 1978 or 1979) was an Australian politician. He was a [[National Party of Australia|Country Party]] member of the [[Northern Territory Legislative Council]] from 1968 to 1974 and a [[Country Liberal Party]] member of the [[Northern Territory Legislative Assembly]] from 1974 to 1977.\\n\\nKentish was born at [[The Gums, Queensland|The Gums]], [[Queensland]] and educated at the local school. He left school at 14 and worked as a timber-cutter and cane-cutter in North Queensland and for an [[Ipswich, Queensland|Ipswich]] dairy. In 1938, he went to the Northern Territory as a missionary with the Methodist Overseas Mission, first at [[Goulburn Island]], [[Yirrkala, Northern Territory|Yirrkala]], [[Milingimbi Island]], [[Gosford, New South Wales|Gosford]], [[New South Wales]] (during a [[World War II]] evacuation) and then [[Croker Island]]. In 1950, he relocated to the [[Darwin, Northern Territory|Darwin]] area, assisting a colleague in establishing an experimental farm and then setting up his own dairy and cattle farm. He was heavily involved in promoting the agricultural industry in the Northern Territory, and in later years ran a caravan park. He was a member of the Darwin Hospital Advisory Board, a prominent member of the Rotary Club of Darwin, and was involved in the Darwin Rotary Rodeo and the Darwin Show Society.<ref name=pr /><ref name=three />\\n\\nHe was narrowly elected as a [[National Party of Australia|Country Party]] member of the [[Northern Territory Legislative Council]] in 1968, defeating George Winunduj, the first indigenous candidate for the Council, by 126 votes. Kentish served on the Legislative Council until its abolition in 1974. At the advent of self-governance, he was then elected as the [[Country Liberal Party]] member for [[Electoral division of Arnhem|Arnhem]] in the [[Northern Territory Legislative Assembly]] from 1974 until 1977, when he was soundly defeated by future Labor leader [[Bob Collins (Australian politician)|Bob Collins]].<ref>{{cite web|first=Antony|last=Green|authorlink=Antony Green|title=Arnhem|work=2005 Northern Territory Election|publisher=[[Australian Broadcasting Corporation]]|year=2005|url=http://www.abc.net.au/elections/nt/2005/guide/arnh.htm|accessdate=31 October 2010}}</ref><ref name=\\\"jaensch\\\">{{cite book |last1=Jaensch |first1=Dean |title=The Legislative Council of the Northern Territory: An Electoral History 1947\\u20131974 |date=1990 |publisher=Australian National University |location=Darwin}}</ref><ref name=three>{{cite news |url=http://nla.gov.au/nla.news-article110859745 |title=LABOR HAS THREE SEATS Country-Liberals back in Northern Territory |newspaper=[[The Canberra Times]] |location=Australian Capital Territory, Australia |date=15 August 1977 |access-date=28 December 2019 |page=1 |via=Trove }}</ref><ref>{{cite news | url=https://www.newspapers.com/image/122767931 | title=Missionary background | work=Sydney Morning Herald | date=3 October 1970 | accessdate=28 December 2019}}</ref><ref>{{cite news |url=http://nla.gov.au/nla.news-article136955103 |title=Aborigine beaten in NT poll |newspaper=[[The Canberra Times]] |location=Australian Capital Territory, Australia |date=13 November 1968 |access-date=28 December 2019 |page=10 |via=Trove }}</ref><ref>{{cite news | title=Former Collins rival blasts sex claims | work=The Australian | date=6 July 2004}}</ref>\\n\\nAn arch-conservative, he claimed in 1970 that the conservative ''[[Northern Territory News]]'' was \\\"communist propaganda\\\" that was \\\"helping to undermine the spiritual and moral life of Australia\\\", claimed in 1971 that there was \\\"not one Aborigine or part-Aborigine who is suitable to sit in the [Legislative] Council\\\", and in 1973 was the only Country Party MP to vote against legalising nude bathing, declaring that \\\"nudity had led to the fall of the Roman Empire\\\". Although he had a history of controversial statements about indigenous people, his wife, Maluda, was a [[Torres Strait Islander]] woman; [[Les McFarlane]] said in parliament upon his death that it \\\"amused him to be called racist...'look at me, he would say...a racist and yet happily married to an Aborigine'. His CLP colleague, [[Hyacinth Tungutalum]], the first Indigenous Australian MP in the Assembly, later said \\\"Aborigines in particular should honour Rupert Kentish ... he did a lot for us\\\".<ref>{{cite news | url=https://www.newspapers.com/image/123762168/ | title=Doom warning on Darwin's bare issue | work=Sydney Morning Herald | date=8 November 1973 | accessdate=28 December 2019}}</ref><ref>{{cite news | title=NT News slated as an organ of communism | work=Northern Territory News | date=9 January 2005}}</ref><ref>{{cite news |url=http://nla.gov.au/nla.news-article237866690 |title=A BLACK HISTORY |newspaper=[[Tribune]] |location=New South Wales, Australia |date=26 May 1971 |access-date=28 December 2019 |page=8 |via=Trove }}</ref><ref name=pr>{{cite web | url=https://parliament.nt.gov.au/__data/assets/pdf_file/0009/367038/PR09-Debates-27-February-1979-8-March-1979.pdf | title=Parliamentary Record Second Parliament, Second Session | publisher=Parliament of the Northern Territory | accessdate=28 December 2019}}</ref><ref>{{cite news | title=Landmark day in Territory politics | work=Northern Territory News | date=19 October 2004}}</ref>\\n\\nHe died in 1978 or 1979.<ref name=pr />\\n\\n==References==\\n{{Commons category}}\\n{{reflist}}\\n\\n{{s-start}}\\n{{s-par|au-nt}}\\n{{succession box | title=Member for [[Electoral division of Arnhem|Arnhem]] || before=New seat || after=[[Bob Collins (politician)|Bob Collins]] | years=1974&ndash;1977}}\\n{{s-end}}\\n\\n{{DEFAULTSORT:Kentish, Rupert}}\\n[[Category:1914 births]]\\n[[Category:1970s deaths]]\\n[[Category:Members of the Northern Territory Legislative Assembly]]\\n[[Category:Members of the Northern Territory Legislative Council]]\\n[[Category:Country Liberal Party members of the Northern Territory Legislative Assembly]]\\n[[Category:20th-century Australian politicians]]\\n\", \"text_old\": \"{{Use dmy dates|date=December 2015}}\\n{{Use Australian English|date=December 2015}}\\n[[File:Rupert Kentish.jpg|thumb|200px|Kentish in 1976]]\\n'''Rupert James Kentish''' (26 June 1914 &ndash; 1978 or 1979) was an Australian politician. He was a [[National Party of Australia|Country Party]] member of the [[Northern Territory Legislative Council]] from 1968 to 1974 and a [[Country Liberal Party]] member of the [[Northern Territory Legislative Assembly]] from 1974 to 1977.\\n\\nKentish was born at [[The Gums, Queensland|The Gums]], [[Queensland]] and educated at the local school. He left school at 14 and worked as a timber-cutter and cane-cutter in North Queensland and for an [[Ipswich, Queensland|Ipswich]] dairy. In 1938, he went to the Northern Territory as a missionary with the Methodist Overseas Mission, first at [[Goulburn Island]], [[Yirrkala, Northern Territory|Yirrkala]], [[Milingimbi Island]], [[Gosford, New South Wales|Gosford]], [[New South Wales]] (during a [[World War II]] evacuation) and then [[Croker Island]]. In 1950, he relocated to the [[Darwin, Northern Territory|Darwin]] area, assisting a colleague in establishing an experimental farm and then setting up his own dairy and cattle farm. He was heavily involved in promoting the agricultural industry in the Northern Territory, and in later years ran a caravan park. He was a member of the Darwin Hospital Advisory Board, a prominent member of the Rotary Club of Darwin, and was involved in the Darwin Rotary Rodeo and the Darwin Show Society.<ref name=pr /><ref name=three />\\n\\nHe was narrowly elected as a [[National Party of Australia|Country Party]] member of the [[Northern Territory Legislative Council]] in 1968, defeating George Winunduj, the first indigenous candidate for the Council, by 126 votes. Kentish served on the Legislative Council until its abolition in 1974. At the advent of self-governance, he was then elected as the [[Country Liberal Party]] member for [[Electoral division of Arnhem|Arnhem]] in the [[Northern Territory Legislative Assembly]] from 1974 until 1977, when he was soundly defeated by future Labor leader [[Bob Collins (Australian politician)|Bob Collins]].<ref>{{cite web|first=Antony|last=Green|authorlink=Antony Green|title=Arnhem|work=2005 Northern Territory Election|publisher=[[Australian Broadcasting Corporation]]|year=2005|url=http://www.abc.net.au/elections/nt/2005/guide/arnh.htm|accessdate=31 October 2010}}</ref><ref name=\\\"jaensch\\\">{{cite book |last1=Jaensch |first1=Dean |title=The Legislative Council of the Northern Territory: An Electoral History 1947\\u20131974 |date=1990 |publisher=Australian National University |location=Darwin}}</ref><ref name=three>{{cite news |url=http://nla.gov.au/nla.news-article110859745 |title=LABOR HAS THREE SEATS Country-Liberals back in Northern Territory |newspaper=[[The Canberra Times]] |location=Australian Capital Territory, Australia |date=15 August 1977 |access-date=28 December 2019 |page=1 |via=Trove }} </ref><ref>{{cite news | url=https://www.newspapers.com/image/122767931 | title=Missionary background | work=Sydney Morning Herald | date=3 October 1970 | accessdate=28 December 2019}}</ref><ref>{{cite news |url=http://nla.gov.au/nla.news-article136955103 |title=Aborigine beaten in NT poll |newspaper=[[The Canberra Times]] |location=Australian Capital Territory, Australia |date=13 November 1968 |access-date=28 December 2019 |page=10 |via=Trove }} </ref><ref>{{cite news | title=Former Collins rival blasts sex claims | work=The Australian | date=6 July 2004}}</ref>\\n\\nAn arch-conservative, he claimed in 1970 that the conservative ''[[Northern Territory News]]'' was \\\"communist propaganda\\\" that was \\\"helping to undermine the spiritual and moral life of Australia\\\", claimed in 1971 that there was \\\"not one Aborigine or part-Aborigine who is suitable to sit in the [Legislative] Council\\\", and in 1973 was the only Country Party MP to vote against legalising nude bathing, declaring that \\\"nudity had led to the fall of the Roman Empire\\\". Although he had a history of controversial statements about indigenous people, his wife, Maluda, was a [[Torres Strait Islander]] woman; [[Les McFarlane]] said in parliament upon his death that it \\\"amused him to be called racist...'look at me, he would say...a racist and yet happily married to an Aborigine'. His CLP colleague, [[Hyacinth Tungutalum]], the first Indigenous Australian MP in the Assembly, later said \\\"Aborigines in particular should honour Rupert Kentish ... he did a lot for us\\\".<ref>{{cite news | url=https://www.newspapers.com/image/123762168/ | title=Doom warning on Darwin's bare issue | work=Sydney Morning Herald | date=8 November 1973 | accessdate=28 December 2019}}</ref><ref>{{cite news | title=NT News slated as an organ of communism | work=Northern Territory News | date=9 January 2005}}</ref><ref>{{cite news |url=http://nla.gov.au/nla.news-article237866690 |title=A BLACK HISTORY |newspaper=[[Tribune]] |location=New South Wales, Australia |date=26 May 1971 |access-date=28 December 2019 |page=8 |via=Trove }} </ref><ref name=pr>{{cite web | url=https://parliament.nt.gov.au/__data/assets/pdf_file/0009/367038/PR09-Debates-27-February-1979-8-March-1979.pdf | title=Parliamentary Record Second Parliament, Second Session | publisher=Parliament of the Northern Territory | accessdate=28 December 2019}}</ref><ref>{{cite news | title=Landmark day in Territory politics | work=Northern Territory News | date=19 October 2004}}</ref>\\n\\nHe died in 1978 or 1979.<ref name=pr />\\n\\n==References==\\n{{Commons category}}\\n{{reflist}}\\n\\n{{s-start}}\\n{{s-par|au-nt}}\\n{{succession box | title=Member for [[Electoral division of Arnhem|Arnhem]] || before=New seat || after=[[Bob Collins (politician)|Bob Collins]] | years=1974&ndash;1977}}\\n{{s-end}}\\n\\n{{DEFAULTSORT:Kentish, Rupert}}\\n[[Category:1914 births]]\\n[[Category:1970s deaths]]\\n[[Category:Members of the Northern Territory Legislative Assembly]]\\n[[Category:Members of the Northern Territory Legislative Council]]\\n[[Category:Country Liberal Party members of the Northern Territory Legislative Assembly]]\\n[[Category:20th-century Australian politicians]]\\n\\n\\n{{Australia-politician-stub}}\\n\", \"name_user\": \"Timrollpickering\", \"label\": \"safe\", \"comment\": \"stub clean up, removed stub tag\", \"url_page\": \"//en.wikipedia.org/wiki/Rupert_Kentish\"}\n",
      "\n"
     ]
    }
   ],
   "source": [
    "#print(file.read())"
   ]
  },
  {
   "cell_type": "code",
   "execution_count": 5,
   "metadata": {},
   "outputs": [
    {
     "ename": "NameError",
     "evalue": "name 'file' is not defined",
     "output_type": "error",
     "traceback": [
      "\u001b[1;31m---------------------------------------------------------------------------\u001b[0m",
      "\u001b[1;31mNameError\u001b[0m                                 Traceback (most recent call last)",
      "\u001b[1;32m<ipython-input-5-0843b9818575>\u001b[0m in \u001b[0;36m<module>\u001b[1;34m\u001b[0m\n\u001b[0;32m      1\u001b[0m \u001b[1;32mimport\u001b[0m \u001b[0mjson\u001b[0m\u001b[1;33m\u001b[0m\u001b[1;33m\u001b[0m\u001b[0m\n\u001b[1;32m----> 2\u001b[1;33m \u001b[0mtext\u001b[0m \u001b[1;33m=\u001b[0m \u001b[0mfile\u001b[0m\u001b[1;33m.\u001b[0m\u001b[0mread\u001b[0m\u001b[1;33m(\u001b[0m\u001b[1;33m)\u001b[0m\u001b[1;33m\u001b[0m\u001b[1;33m\u001b[0m\u001b[0m\n\u001b[0m\u001b[0;32m      3\u001b[0m \u001b[0mdata\u001b[0m \u001b[1;33m=\u001b[0m \u001b[0mjson\u001b[0m\u001b[1;33m.\u001b[0m\u001b[0mloads\u001b[0m\u001b[1;33m(\u001b[0m\u001b[0mtext\u001b[0m\u001b[1;33m)\u001b[0m\u001b[1;33m\u001b[0m\u001b[1;33m\u001b[0m\u001b[0m\n",
      "\u001b[1;31mNameError\u001b[0m: name 'file' is not defined"
     ]
    }
   ],
   "source": [
    "import json\n",
    "text = file.read()\n",
    "data = json.loads(text)"
   ]
  },
  {
   "cell_type": "code",
   "execution_count": 8,
   "metadata": {},
   "outputs": [
    {
     "data": {
      "text/plain": [
       "dict_keys(['title_page', 'text_new', 'text_old', 'name_user', 'label', 'comment', 'url_page'])"
      ]
     },
     "execution_count": 8,
     "metadata": {},
     "output_type": "execute_result"
    }
   ],
   "source": [
    "data.keys()"
   ]
  },
  {
   "cell_type": "code",
   "execution_count": 75,
   "metadata": {},
   "outputs": [
    {
     "data": {
      "text/plain": [
       "'safe'"
      ]
     },
     "execution_count": 75,
     "metadata": {},
     "output_type": "execute_result"
    }
   ],
   "source": [
    "data['label']"
   ]
  },
  {
   "cell_type": "code",
   "execution_count": 76,
   "metadata": {},
   "outputs": [],
   "source": [
    "from difflib import unified_diff\n",
    "\n",
    "def make_diff(old, new):\n",
    "    return '\\n'.join([ l for l in unified_diff(old.split('\\n'), new.split('\\n')) if l.startswith('+') or l.startswith('-') ])"
   ]
  },
  {
   "cell_type": "code",
   "execution_count": 77,
   "metadata": {},
   "outputs": [],
   "source": [
    "diff = make_diff(data['text_old'], data['text_new'])"
   ]
  },
  {
   "cell_type": "code",
   "execution_count": 55,
   "metadata": {},
   "outputs": [],
   "source": [
    "def calc_dels_adds(diff):\n",
    "    deletions = 0\n",
    "    additions = 0\n",
    "    for line in diff.split('\\n'):\n",
    "        if len(line)> 0:\n",
    "            if line[0] == \"-\": deletions += 1\n",
    "            if line[0] == \"+\": additions += 1\n",
    "    del_add_ratio = deletions / additions\n",
    "    return int(deletions), int(additions), del_add_ratio"
   ]
  },
  {
   "cell_type": "code",
   "execution_count": 138,
   "metadata": {},
   "outputs": [],
   "source": [
    "def get_added_text(diff):\n",
    "    edits = []\n",
    "    for text in diff.split('\\n'):\n",
    "        if text.startswith(\"+\"):\n",
    "            edits.append(text)\n",
    "    print(edits)        \n",
    "    return edits"
   ]
  },
  {
   "cell_type": "code",
   "execution_count": 78,
   "metadata": {},
   "outputs": [
    {
     "data": {
      "text/plain": [
       "(6, 3, 2.0)"
      ]
     },
     "execution_count": 78,
     "metadata": {},
     "output_type": "execute_result"
    }
   ],
   "source": [
    "calc_dels_adds(diff)"
   ]
  },
  {
   "cell_type": "code",
   "execution_count": 127,
   "metadata": {},
   "outputs": [
    {
     "data": {
      "text/plain": [
       "NoneType"
      ]
     },
     "execution_count": 127,
     "metadata": {},
     "output_type": "execute_result"
    }
   ],
   "source": [
    "#added = get_added_text(diff)\n",
    "type(added)"
   ]
  },
  {
   "cell_type": "code",
   "execution_count": 139,
   "metadata": {},
   "outputs": [
    {
     "name": "stdout",
     "output_type": "stream",
     "text": [
      "['+++ ', \"+'''Timpoko Helène Kienon-Kabore''' is an [[archaeologist]]. She is a professor at the Research of Human Society and Science Unit at the [[Université Félix Houphouët-Boigny|University Felix Houphouet-Boigny]] of Cocody in [[Abidjan]], [[Ivory Coast|Côte d’Ivoire]].<ref>{{Cite web|url=https://www.historyoftechnology.org/about-us/international-scholars-program/international-scholar-timpoko-helene-kienon-kabore/|title=International Scholar: Timpoko Hélène Kiénon-Kaboré|date=2019-08-14|website=Society for the History of Technology (SHOT)|language=en|access-date=2019-11-16}}</ref> She is an advisor on archaeological heritage at the Ministry of Culture and Francophonie of Côte d'Ivoire.<ref>{{Cite web|url=http://www.ifrro.org/content/c%C3%B4te-d%E2%80%99ivoire-successful-seminar-towards-publishers-organised-burida-ifrro-support|title=Côte d'Ivoire: successful seminar towards publishers organised by BURIDA with IFRRO support|last=veraliah|first=|date=2016-06-10|website=www.ifrro.org|url-status=live|archive-url=|archive-date=|access-date=2019-12-04}}</ref>\"]\n"
     ]
    },
    {
     "data": {
      "text/plain": [
       "['+++ ',\n",
       " \"+'''Timpoko Helène Kienon-Kabore''' is an [[archaeologist]]. She is a professor at the Research of Human Society and Science Unit at the [[Université Félix Houphouët-Boigny|University Felix Houphouet-Boigny]] of Cocody in [[Abidjan]], [[Ivory Coast|Côte d’Ivoire]].<ref>{{Cite web|url=https://www.historyoftechnology.org/about-us/international-scholars-program/international-scholar-timpoko-helene-kienon-kabore/|title=International Scholar: Timpoko Hélène Kiénon-Kaboré|date=2019-08-14|website=Society for the History of Technology (SHOT)|language=en|access-date=2019-11-16}}</ref> She is an advisor on archaeological heritage at the Ministry of Culture and Francophonie of Côte d'Ivoire.<ref>{{Cite web|url=http://www.ifrro.org/content/c%C3%B4te-d%E2%80%99ivoire-successful-seminar-towards-publishers-organised-burida-ifrro-support|title=Côte d'Ivoire: successful seminar towards publishers organised by BURIDA with IFRRO support|last=veraliah|first=|date=2016-06-10|website=www.ifrro.org|url-status=live|archive-url=|archive-date=|access-date=2019-12-04}}</ref>\"]"
      ]
     },
     "execution_count": 139,
     "metadata": {},
     "output_type": "execute_result"
    }
   ],
   "source": [
    "get_added_text(diff)"
   ]
  },
  {
   "cell_type": "code",
   "execution_count": 151,
   "metadata": {},
   "outputs": [
    {
     "name": "stdout",
     "output_type": "stream",
     "text": [
      "['+++ ', \"+'''Timpoko Helène Kienon-Kabore''' is an [[archaeologist]]. She is a professor at the Research of Human Society and Science Unit at the [[Université Félix Houphouët-Boigny|University Felix Houphouet-Boigny]] of Cocody in [[Abidjan]], [[Ivory Coast|Côte d’Ivoire]].<ref>{{Cite web|url=https://www.historyoftechnology.org/about-us/international-scholars-program/international-scholar-timpoko-helene-kienon-kabore/|title=International Scholar: Timpoko Hélène Kiénon-Kaboré|date=2019-08-14|website=Society for the History of Technology (SHOT)|language=en|access-date=2019-11-16}}</ref> She is an advisor on archaeological heritage at the Ministry of Culture and Francophonie of Côte d'Ivoire.<ref>{{Cite web|url=http://www.ifrro.org/content/c%C3%B4te-d%E2%80%99ivoire-successful-seminar-towards-publishers-organised-burida-ifrro-support|title=Côte d'Ivoire: successful seminar towards publishers organised by BURIDA with IFRRO support|last=veraliah|first=|date=2016-06-10|website=www.ifrro.org|url-status=live|archive-url=|archive-date=|access-date=2019-12-04}}</ref>\"]\n",
      "4\n",
      "['+++']\n",
      "1064\n",
      "['+', \"''\", \"'Timpoko\", 'Helène', 'Kienon-Kabore', \"''\", \"'\", 'is', 'an', '[', '[', 'archaeologist', ']', ']', '.', 'She', 'is', 'a', 'professor', 'at', 'the', 'Research', 'of', 'Human', 'Society', 'and', 'Science', 'Unit', 'at', 'the', '[', '[', 'Université', 'Félix', 'Houphouët-Boigny|University', 'Felix', 'Houphouet-Boigny', ']', ']', 'of', 'Cocody', 'in', '[', '[', 'Abidjan', ']', ']', ',', '[', '[', 'Ivory', 'Coast|Côte', 'd', '’', 'Ivoire', ']', ']', '.', '<', 'ref', '>', '{', '{', 'Cite', 'web|url=https', ':', '//www.historyoftechnology.org/about-us/international-scholars-program/international-scholar-timpoko-helene-kienon-kabore/|title=International', 'Scholar', ':', 'Timpoko', 'Hélène', 'Kiénon-Kaboré|date=2019-08-14|website=Society', 'for', 'the', 'History', 'of', 'Technology', '(', 'SHOT', ')', '|language=en|access-date=2019-11-16', '}', '}', '<', '/ref', '>', 'She', 'is', 'an', 'advisor', 'on', 'archaeological', 'heritage', 'at', 'the', 'Ministry', 'of', 'Culture', 'and', 'Francophonie', 'of', 'Côte', \"d'Ivoire.\", '<', 'ref', '>', '{', '{', 'Cite', 'web|url=http', ':', '//www.ifrro.org/content/c', '%', 'C3', '%', 'B4te-d', '%', 'E2', '%', '80', '%', '99ivoire-successful-seminar-towards-publishers-organised-burida-ifrro-support|title=Côte', \"d'Ivoire\", ':', 'successful', 'seminar', 'towards', 'publishers', 'organised', 'by', 'BURIDA', 'with', 'IFRRO', 'support|last=veraliah|first=|date=2016-06-10|website=www.ifrro.org|url-status=live|archive-url=|archive-date=|access-date=2019-12-04', '}', '}', '<', '/ref', '>']\n"
     ]
    }
   ],
   "source": [
    "import nltk\n",
    "#nltk.download('punkt')\n",
    "from nltk import word_tokenize\n",
    "raw = get_added_text(diff)\n",
    "for i in raw:\n",
    "    print(len(i))\n",
    "    tokens = word_tokenize(i)\n",
    "    print(tokens)\n",
    "    \n",
    "'''There is still a lot of html formatting in there'''"
   ]
  },
  {
   "cell_type": "code",
   "execution_count": 152,
   "metadata": {},
   "outputs": [
    {
     "name": "stdout",
     "output_type": "stream",
     "text": [
      "['+++ ', \"+'''Timpoko Helène Kienon-Kabore''' is an [[archaeologist]]. She is a professor at the Research of Human Society and Science Unit at the [[Université Félix Houphouët-Boigny|University Felix Houphouet-Boigny]] of Cocody in [[Abidjan]], [[Ivory Coast|Côte d’Ivoire]].<ref>{{Cite web|url=https://www.historyoftechnology.org/about-us/international-scholars-program/international-scholar-timpoko-helene-kienon-kabore/|title=International Scholar: Timpoko Hélène Kiénon-Kaboré|date=2019-08-14|website=Society for the History of Technology (SHOT)|language=en|access-date=2019-11-16}}</ref> She is an advisor on archaeological heritage at the Ministry of Culture and Francophonie of Côte d'Ivoire.<ref>{{Cite web|url=http://www.ifrro.org/content/c%C3%B4te-d%E2%80%99ivoire-successful-seminar-towards-publishers-organised-burida-ifrro-support|title=Côte d'Ivoire: successful seminar towards publishers organised by BURIDA with IFRRO support|last=veraliah|first=|date=2016-06-10|website=www.ifrro.org|url-status=live|archive-url=|archive-date=|access-date=2019-12-04}}</ref>\"]\n",
      "4\n",
      "['+++']\n",
      "1064\n",
      "['+', \"''\", \"'Timpoko\", 'Helène', 'Kienon-Kabore', \"''\", \"'\", 'is', 'an', '[', '[', 'archaeologist', ']', ']', '.', 'She', 'is', 'a', 'professor', 'at', 'the', 'Research', 'of', 'Human', 'Society', 'and', 'Science', 'Unit', 'at', 'the', '[', '[', 'Université', 'Félix', 'Houphouët-Boigny|University', 'Felix', 'Houphouet-Boigny', ']', ']', 'of', 'Cocody', 'in', '[', '[', 'Abidjan', ']', ']', ',', '[', '[', 'Ivory', 'Coast|Côte', 'd', '’', 'Ivoire', ']', ']', '.', '{', '{', 'Cite', 'web|url=https', ':', '//www.historyoftechnology.org/about-us/international-scholars-program/international-scholar-timpoko-helene-kienon-kabore/|title=International', 'Scholar', ':', 'Timpoko', 'Hélène', 'Kiénon-Kaboré|date=2019-08-14|website=Society', 'for', 'the', 'History', 'of', 'Technology', '(', 'SHOT', ')', '|language=en|access-date=2019-11-16', '}', '}', 'She', 'is', 'an', 'advisor', 'on', 'archaeological', 'heritage', 'at', 'the', 'Ministry', 'of', 'Culture', 'and', 'Francophonie', 'of', 'Côte', \"d'Ivoire\", '.', '{', '{', 'Cite', 'web|url=http', ':', '//www.ifrro.org/content/c', '%', 'C3', '%', 'B4te-d', '%', 'E2', '%', '80', '%', '99ivoire-successful-seminar-towards-publishers-organised-burida-ifrro-support|title=Côte', \"d'Ivoire\", ':', 'successful', 'seminar', 'towards', 'publishers', 'organised', 'by', 'BURIDA', 'with', 'IFRRO', 'support|last=veraliah|first=|date=2016-06-10|website=www.ifrro.org|url-status=live|archive-url=|archive-date=|access-date=2019-12-04', '}', '}']\n"
     ]
    }
   ],
   "source": [
    "'''from bs4 import BeautifulSoup\n",
    "raw = get_added_text(diff)\n",
    "for i in raw:\n",
    "    print(len(i))\n",
    "    formatted = BeautifulSoup(i, 'html.parser').get_text()\n",
    "    tokens = word_tokenize(formatted)\n",
    "    print(tokens)'''\n",
    "#No added value"
   ]
  },
  {
   "cell_type": "code",
   "execution_count": 111,
   "metadata": {},
   "outputs": [
    {
     "data": {
      "text/plain": [
       "'--- \\n\\n+++ \\n\\n-He was narrowly elected as a [[National Party of Australia|Country Party]] member of the [[Northern Territory Legislative Council]] in 1968, defeating George Winunduj, the first indigenous candidate for the Council, by 126 votes. Kentish served on the Legislative Council until its abolition in 1974. At the advent of self-governance, he was then elected as the [[Country Liberal Party]] member for [[Electoral division of Arnhem|Arnhem]] in the [[Northern Territory Legislative Assembly]] from 1974 until 1977, when he was soundly defeated by future Labor leader [[Bob Collins (Australian politician)|Bob Collins]].<ref>{{cite web|first=Antony|last=Green|authorlink=Antony Green|title=Arnhem|work=2005 Northern Territory Election|publisher=[[Australian Broadcasting Corporation]]|year=2005|url=http://www.abc.net.au/elections/nt/2005/guide/arnh.htm|accessdate=31 October 2010}}</ref><ref name=\"jaensch\">{{cite book |last1=Jaensch |first1=Dean |title=The Legislative Council of the Northern Territory: An Electoral History 1947–1974 |date=1990 |publisher=Australian National University |location=Darwin}}</ref><ref name=three>{{cite news |url=http://nla.gov.au/nla.news-article110859745 |title=LABOR HAS THREE SEATS Country-Liberals back in Northern Territory |newspaper=[[The Canberra Times]] |location=Australian Capital Territory, Australia |date=15 August 1977 |access-date=28 December 2019 |page=1 |via=Trove }} </ref><ref>{{cite news | url=https://www.newspapers.com/image/122767931 | title=Missionary background | work=Sydney Morning Herald | date=3 October 1970 | accessdate=28 December 2019}}</ref><ref>{{cite news |url=http://nla.gov.au/nla.news-article136955103 |title=Aborigine beaten in NT poll |newspaper=[[The Canberra Times]] |location=Australian Capital Territory, Australia |date=13 November 1968 |access-date=28 December 2019 |page=10 |via=Trove }} </ref><ref>{{cite news | title=Former Collins rival blasts sex claims | work=The Australian | date=6 July 2004}}</ref>\\n+He was narrowly elected as a [[National Party of Australia|Country Party]] member of the [[Northern Territory Legislative Council]] in 1968, defeating George Winunduj, the first indigenous candidate for the Council, by 126 votes. Kentish served on the Legislative Council until its abolition in 1974. At the advent of self-governance, he was then elected as the [[Country Liberal Party]] member for [[Electoral division of Arnhem|Arnhem]] in the [[Northern Territory Legislative Assembly]] from 1974 until 1977, when he was soundly defeated by future Labor leader [[Bob Collins (Australian politician)|Bob Collins]].<ref>{{cite web|first=Antony|last=Green|authorlink=Antony Green|title=Arnhem|work=2005 Northern Territory Election|publisher=[[Australian Broadcasting Corporation]]|year=2005|url=http://www.abc.net.au/elections/nt/2005/guide/arnh.htm|accessdate=31 October 2010}}</ref><ref name=\"jaensch\">{{cite book |last1=Jaensch |first1=Dean |title=The Legislative Council of the Northern Territory: An Electoral History 1947–1974 |date=1990 |publisher=Australian National University |location=Darwin}}</ref><ref name=three>{{cite news |url=http://nla.gov.au/nla.news-article110859745 |title=LABOR HAS THREE SEATS Country-Liberals back in Northern Territory |newspaper=[[The Canberra Times]] |location=Australian Capital Territory, Australia |date=15 August 1977 |access-date=28 December 2019 |page=1 |via=Trove }}</ref><ref>{{cite news | url=https://www.newspapers.com/image/122767931 | title=Missionary background | work=Sydney Morning Herald | date=3 October 1970 | accessdate=28 December 2019}}</ref><ref>{{cite news |url=http://nla.gov.au/nla.news-article136955103 |title=Aborigine beaten in NT poll |newspaper=[[The Canberra Times]] |location=Australian Capital Territory, Australia |date=13 November 1968 |access-date=28 December 2019 |page=10 |via=Trove }}</ref><ref>{{cite news | title=Former Collins rival blasts sex claims | work=The Australian | date=6 July 2004}}</ref>\\n-An arch-conservative, he claimed in 1970 that the conservative \\'\\'[[Northern Territory News]]\\'\\' was \"communist propaganda\" that was \"helping to undermine the spiritual and moral life of Australia\", claimed in 1971 that there was \"not one Aborigine or part-Aborigine who is suitable to sit in the [Legislative] Council\", and in 1973 was the only Country Party MP to vote against legalising nude bathing, declaring that \"nudity had led to the fall of the Roman Empire\". Although he had a history of controversial statements about indigenous people, his wife, Maluda, was a [[Torres Strait Islander]] woman; [[Les McFarlane]] said in parliament upon his death that it \"amused him to be called racist...\\'look at me, he would say...a racist and yet happily married to an Aborigine\\'. His CLP colleague, [[Hyacinth Tungutalum]], the first Indigenous Australian MP in the Assembly, later said \"Aborigines in particular should honour Rupert Kentish ... he did a lot for us\".<ref>{{cite news | url=https://www.newspapers.com/image/123762168/ | title=Doom warning on Darwin\\'s bare issue | work=Sydney Morning Herald | date=8 November 1973 | accessdate=28 December 2019}}</ref><ref>{{cite news | title=NT News slated as an organ of communism | work=Northern Territory News | date=9 January 2005}}</ref><ref>{{cite news |url=http://nla.gov.au/nla.news-article237866690 |title=A BLACK HISTORY |newspaper=[[Tribune]] |location=New South Wales, Australia |date=26 May 1971 |access-date=28 December 2019 |page=8 |via=Trove }} </ref><ref name=pr>{{cite web | url=https://parliament.nt.gov.au/__data/assets/pdf_file/0009/367038/PR09-Debates-27-February-1979-8-March-1979.pdf | title=Parliamentary Record Second Parliament, Second Session | publisher=Parliament of the Northern Territory | accessdate=28 December 2019}}</ref><ref>{{cite news | title=Landmark day in Territory politics | work=Northern Territory News | date=19 October 2004}}</ref>\\n+An arch-conservative, he claimed in 1970 that the conservative \\'\\'[[Northern Territory News]]\\'\\' was \"communist propaganda\" that was \"helping to undermine the spiritual and moral life of Australia\", claimed in 1971 that there was \"not one Aborigine or part-Aborigine who is suitable to sit in the [Legislative] Council\", and in 1973 was the only Country Party MP to vote against legalising nude bathing, declaring that \"nudity had led to the fall of the Roman Empire\". Although he had a history of controversial statements about indigenous people, his wife, Maluda, was a [[Torres Strait Islander]] woman; [[Les McFarlane]] said in parliament upon his death that it \"amused him to be called racist...\\'look at me, he would say...a racist and yet happily married to an Aborigine\\'. His CLP colleague, [[Hyacinth Tungutalum]], the first Indigenous Australian MP in the Assembly, later said \"Aborigines in particular should honour Rupert Kentish ... he did a lot for us\".<ref>{{cite news | url=https://www.newspapers.com/image/123762168/ | title=Doom warning on Darwin\\'s bare issue | work=Sydney Morning Herald | date=8 November 1973 | accessdate=28 December 2019}}</ref><ref>{{cite news | title=NT News slated as an organ of communism | work=Northern Territory News | date=9 January 2005}}</ref><ref>{{cite news |url=http://nla.gov.au/nla.news-article237866690 |title=A BLACK HISTORY |newspaper=[[Tribune]] |location=New South Wales, Australia |date=26 May 1971 |access-date=28 December 2019 |page=8 |via=Trove }}</ref><ref name=pr>{{cite web | url=https://parliament.nt.gov.au/__data/assets/pdf_file/0009/367038/PR09-Debates-27-February-1979-8-March-1979.pdf | title=Parliamentary Record Second Parliament, Second Session | publisher=Parliament of the Northern Territory | accessdate=28 December 2019}}</ref><ref>{{cite news | title=Landmark day in Territory politics | work=Northern Territory News | date=19 October 2004}}</ref>\\n-\\n-{{Australia-politician-stub}}\\n-'"
      ]
     },
     "execution_count": 111,
     "metadata": {},
     "output_type": "execute_result"
    }
   ],
   "source": [
    "diff"
   ]
  },
  {
   "cell_type": "code",
   "execution_count": 58,
   "metadata": {},
   "outputs": [
    {
     "data": {
      "text/plain": [
       "['--- ',\n",
       " '',\n",
       " '+++ ',\n",
       " '',\n",
       " '-people who needed it|url=https://ashtonc.ca/debate/mdr/Monash_Debating_Review-V12.pdf|journal=Monash Debating Review|volume=12|pages=|via=}}</ref> Discontent among judges who had been offered payment in return for participation resulted in strike threats, jeopardizing the 7th round of the tournament. There were also complaints from Pakistani participants of detention by Indian immigration authorities.',\n",
       " '+people who needed it|url=https://ashtonc.ca/debate/mdr/Monash_Debating_Review-V12.pdf|journal=Monash Debating Review|volume=12|pages=|via=}}</ref> Discontent among judges who had been offered payment in return for participation resulted in strike threats, jeopardizing the 7th round of the tournament. There were also complaints from Pakistani participants of detention by Indian immigration authorities.<ref>{{Cite news|last=|first=|url=https://trinitynews.ie/2014/01/scandal-and-strike-threats-at-world-university-debating-competition/|title=Scandal and strike threats at World University Debating Competition|date=Jan 1, 2014|work=Trinity News|access-date=Apr 1, 2020|url-status=live}}</ref>']"
      ]
     },
     "execution_count": 58,
     "metadata": {},
     "output_type": "execute_result"
    }
   ],
   "source": [
    "diff.split('\\n')"
   ]
  },
  {
   "cell_type": "code",
   "execution_count": null,
   "metadata": {},
   "outputs": [],
   "source": [
    "def create_Dictionary(directory):\n",
    "    for entry in os.scandir(directory):\n",
    "        "
   ]
  },
  {
   "cell_type": "code",
   "execution_count": 165,
   "metadata": {},
   "outputs": [
    {
     "name": "stdout",
     "output_type": "stream",
     "text": [
      "['+++ ', '+He was narrowly elected as a [[National Party of Australia|Country Party]] member of the [[Northern Territory Legislative Council]] in 1968, defeating George Winunduj, the first indigenous candidate for the Council, by 126 votes. Kentish served on the Legislative Council until its abolition in 1974. At the advent of self-governance, he was then elected as the [[Country Liberal Party]] member for [[Electoral division of Arnhem|Arnhem]] in the [[Northern Territory Legislative Assembly]] from 1974 until 1977, when he was soundly defeated by future Labor leader [[Bob Collins (Australian politician)|Bob Collins]].<ref>{{cite web|first=Antony|last=Green|authorlink=Antony Green|title=Arnhem|work=2005 Northern Territory Election|publisher=[[Australian Broadcasting Corporation]]|year=2005|url=http://www.abc.net.au/elections/nt/2005/guide/arnh.htm|accessdate=31 October 2010}}</ref><ref name=\"jaensch\">{{cite book |last1=Jaensch |first1=Dean |title=The Legislative Council of the Northern Territory: An Electoral History 1947–1974 |date=1990 |publisher=Australian National University |location=Darwin}}</ref><ref name=three>{{cite news |url=http://nla.gov.au/nla.news-article110859745 |title=LABOR HAS THREE SEATS Country-Liberals back in Northern Territory |newspaper=[[The Canberra Times]] |location=Australian Capital Territory, Australia |date=15 August 1977 |access-date=28 December 2019 |page=1 |via=Trove }}</ref><ref>{{cite news | url=https://www.newspapers.com/image/122767931 | title=Missionary background | work=Sydney Morning Herald | date=3 October 1970 | accessdate=28 December 2019}}</ref><ref>{{cite news |url=http://nla.gov.au/nla.news-article136955103 |title=Aborigine beaten in NT poll |newspaper=[[The Canberra Times]] |location=Australian Capital Territory, Australia |date=13 November 1968 |access-date=28 December 2019 |page=10 |via=Trove }}</ref><ref>{{cite news | title=Former Collins rival blasts sex claims | work=The Australian | date=6 July 2004}}</ref>', '+An arch-conservative, he claimed in 1970 that the conservative \\'\\'[[Northern Territory News]]\\'\\' was \"communist propaganda\" that was \"helping to undermine the spiritual and moral life of Australia\", claimed in 1971 that there was \"not one Aborigine or part-Aborigine who is suitable to sit in the [Legislative] Council\", and in 1973 was the only Country Party MP to vote against legalising nude bathing, declaring that \"nudity had led to the fall of the Roman Empire\". Although he had a history of controversial statements about indigenous people, his wife, Maluda, was a [[Torres Strait Islander]] woman; [[Les McFarlane]] said in parliament upon his death that it \"amused him to be called racist...\\'look at me, he would say...a racist and yet happily married to an Aborigine\\'. His CLP colleague, [[Hyacinth Tungutalum]], the first Indigenous Australian MP in the Assembly, later said \"Aborigines in particular should honour Rupert Kentish ... he did a lot for us\".<ref>{{cite news | url=https://www.newspapers.com/image/123762168/ | title=Doom warning on Darwin\\'s bare issue | work=Sydney Morning Herald | date=8 November 1973 | accessdate=28 December 2019}}</ref><ref>{{cite news | title=NT News slated as an organ of communism | work=Northern Territory News | date=9 January 2005}}</ref><ref>{{cite news |url=http://nla.gov.au/nla.news-article237866690 |title=A BLACK HISTORY |newspaper=[[Tribune]] |location=New South Wales, Australia |date=26 May 1971 |access-date=28 December 2019 |page=8 |via=Trove }}</ref><ref name=pr>{{cite web | url=https://parliament.nt.gov.au/__data/assets/pdf_file/0009/367038/PR09-Debates-27-February-1979-8-March-1979.pdf | title=Parliamentary Record Second Parliament, Second Session | publisher=Parliament of the Northern Territory | accessdate=28 December 2019}}</ref><ref>{{cite news | title=Landmark day in Territory politics | work=Northern Territory News | date=19 October 2004}}</ref>']\n",
      "['He', 'was', 'narrowly', 'elected', 'as', 'a', 'National', 'Party', 'of', 'Australia', 'Country', 'Party', 'member', 'of', 'the', 'Northern', 'Territory', 'Legislative', 'Council', 'in', '1968', 'defeating', 'George', 'Winunduj', 'the', 'first', 'indigenous', 'candidate', 'for', 'the', 'Council', 'by', '126', 'votes', 'Kentish', 'served', 'on', 'the', 'Legislative', 'Council', 'until', 'its', 'abolition', 'in', '1974', 'At', 'the', 'advent', 'of', 'self', 'governance', 'he', 'was', 'then', 'elected', 'as', 'the', 'Country', 'Liberal', 'Party', 'member', 'for', 'Electoral', 'division', 'of', 'Arnhem', 'Arnhem', 'in', 'the', 'Northern', 'Territory', 'Legislative', 'Assembly', 'from', '1974', 'until', '1977', 'when', 'he', 'was', 'soundly', 'defeated', 'by', 'future', 'Labor', 'leader', 'Bob', 'Collins', 'Australian', 'politician', 'Bob', 'Collins', 'ref', 'cite', 'web', 'first', 'Antony', 'last', 'Green', 'authorlink', 'Antony', 'Green', 'title', 'Arnhem', 'work', '2005', 'Northern', 'Territory', 'Election', 'publisher', 'Australian', 'Broadcasting', 'Corporation', 'year', '2005', 'url', 'http', 'www', 'abc', 'net', 'au', 'elections', 'nt', '2005', 'guide', 'arnh', 'htm', 'accessdate', '31', 'October', '2010', 'ref', 'ref', 'name', 'jaensch', 'cite', 'book', 'last1', 'Jaensch', 'first1', 'Dean', 'title', 'The', 'Legislative', 'Council', 'of', 'the', 'Northern', 'Territory', 'An', 'Electoral', 'History', '1947', '1974', 'date', '1990', 'publisher', 'Australian', 'National', 'University', 'location', 'Darwin', 'ref', 'ref', 'name', 'three', 'cite', 'news', 'url', 'http', 'nla', 'gov', 'au', 'nla', 'news', 'article110859745', 'title', 'LABOR', 'HAS', 'THREE', 'SEATS', 'Country', 'Liberals', 'back', 'in', 'Northern', 'Territory', 'newspaper', 'The', 'Canberra', 'Times', 'location', 'Australian', 'Capital', 'Territory', 'Australia', 'date', '15', 'August', '1977', 'access', 'date', '28', 'December', '2019', 'page', '1', 'via', 'Trove', 'ref', 'ref', 'cite', 'news', 'url', 'https', 'www', 'newspapers', 'com', 'image', '122767931', 'title', 'Missionary', 'background', 'work', 'Sydney', 'Morning', 'Herald', 'date', '3', 'October', '1970', 'accessdate', '28', 'December', '2019', 'ref', 'ref', 'cite', 'news', 'url', 'http', 'nla', 'gov', 'au', 'nla', 'news', 'article136955103', 'title', 'Aborigine', 'beaten', 'in', 'NT', 'poll', 'newspaper', 'The', 'Canberra', 'Times', 'location', 'Australian', 'Capital', 'Territory', 'Australia', 'date', '13', 'November', '1968', 'access', 'date', '28', 'December', '2019', 'page', '10', 'via', 'Trove', 'ref', 'ref', 'cite', 'news', 'title', 'Former', 'Collins', 'rival', 'blasts', 'sex', 'claims', 'work', 'The', 'Australian', 'date', '6', 'July', '2004', 'ref', 'An', 'arch', 'conservative', 'he', 'claimed', 'in', '1970', 'that', 'the', 'conservative', 'Northern', 'Territory', 'News', 'was', 'communist', 'propaganda', 'that', 'was', 'helping', 'to', 'undermine', 'the', 'spiritual', 'and', 'moral', 'life', 'of', 'Australia', 'claimed', 'in', '1971', 'that', 'there', 'was', 'not', 'one', 'Aborigine', 'or', 'part', 'Aborigine', 'who', 'is', 'suitable', 'to', 'sit', 'in', 'the', 'Legislative', 'Council', 'and', 'in', '1973', 'was', 'the', 'only', 'Country', 'Party', 'MP', 'to', 'vote', 'against', 'legalising', 'nude', 'bathing', 'declaring', 'that', 'nudity', 'had', 'led', 'to', 'the', 'fall', 'of', 'the', 'Roman', 'Empire', 'Although', 'he', 'had', 'a', 'history', 'of', 'controversial', 'statements', 'about', 'indigenous', 'people', 'his', 'wife', 'Maluda', 'was', 'a', 'Torres', 'Strait', 'Islander', 'woman', 'Les', 'McFarlane', 'said', 'in', 'parliament', 'upon', 'his', 'death', 'that', 'it', 'amused', 'him', 'to', 'be', 'called', 'racist', 'look', 'at', 'me', 'he', 'would', 'say', 'a', 'racist', 'and', 'yet', 'happily', 'married', 'to', 'an', 'Aborigine', 'His', 'CLP', 'colleague', 'Hyacinth', 'Tungutalum', 'the', 'first', 'Indigenous', 'Australian', 'MP', 'in', 'the', 'Assembly', 'later', 'said', 'Aborigines', 'in', 'particular', 'should', 'honour', 'Rupert', 'Kentish', 'he', 'did', 'a', 'lot', 'for', 'us', 'ref', 'cite', 'news', 'url', 'https', 'www', 'newspapers', 'com', 'image', '123762168', 'title', 'Doom', 'warning', 'on', 'Darwin', 's', 'bare', 'issue', 'work', 'Sydney', 'Morning', 'Herald', 'date', '8', 'November', '1973', 'accessdate', '28', 'December', '2019', 'ref', 'ref', 'cite', 'news', 'title', 'NT', 'News', 'slated', 'as', 'an', 'organ', 'of', 'communism', 'work', 'Northern', 'Territory', 'News', 'date', '9', 'January', '2005', 'ref', 'ref', 'cite', 'news', 'url', 'http', 'nla', 'gov', 'au', 'nla', 'news', 'article237866690', 'title', 'A', 'BLACK', 'HISTORY', 'newspaper', 'Tribune', 'location', 'New', 'South', 'Wales', 'Australia', 'date', '26', 'May', '1971', 'access', 'date', '28', 'December', '2019', 'page', '8', 'via', 'Trove', 'ref', 'ref', 'name', 'pr', 'cite', 'web', 'url', 'https', 'parliament', 'nt', 'gov', 'au', '__data', 'assets', 'pdf_file', '0009', '367038', 'PR09', 'Debates', '27', 'February', '1979', '8', 'March', '1979', 'pdf', 'title', 'Parliamentary', 'Record', 'Second', 'Parliament', 'Second', 'Session', 'publisher', 'Parliament', 'of', 'the', 'Northern', 'Territory', 'accessdate', '28', 'December', '2019', 'ref', 'ref', 'cite', 'news', 'title', 'Landmark', 'day', 'in', 'Territory', 'politics', 'work', 'Northern', 'Territory', 'News', 'date', '19', 'October', '2004', 'ref']\n",
      "['+++ ', '+people who needed it|url=https://ashtonc.ca/debate/mdr/Monash_Debating_Review-V12.pdf|journal=Monash Debating Review|volume=12|pages=|via=}}</ref> Discontent among judges who had been offered payment in return for participation resulted in strike threats, jeopardizing the 7th round of the tournament. There were also complaints from Pakistani participants of detention by Indian immigration authorities.<ref>{{Cite news|last=|first=|url=https://trinitynews.ie/2014/01/scandal-and-strike-threats-at-world-university-debating-competition/|title=Scandal and strike threats at World University Debating Competition|date=Jan 1, 2014|work=Trinity News|access-date=Apr 1, 2020|url-status=live}}</ref>']\n",
      "['He', 'was', 'narrowly', 'elected', 'as', 'a', 'National', 'Party', 'of', 'Australia', 'Country', 'Party', 'member', 'of', 'the', 'Northern', 'Territory', 'Legislative', 'Council', 'in', '1968', 'defeating', 'George', 'Winunduj', 'the', 'first', 'indigenous', 'candidate', 'for', 'the', 'Council', 'by', '126', 'votes', 'Kentish', 'served', 'on', 'the', 'Legislative', 'Council', 'until', 'its', 'abolition', 'in', '1974', 'At', 'the', 'advent', 'of', 'self', 'governance', 'he', 'was', 'then', 'elected', 'as', 'the', 'Country', 'Liberal', 'Party', 'member', 'for', 'Electoral', 'division', 'of', 'Arnhem', 'Arnhem', 'in', 'the', 'Northern', 'Territory', 'Legislative', 'Assembly', 'from', '1974', 'until', '1977', 'when', 'he', 'was', 'soundly', 'defeated', 'by', 'future', 'Labor', 'leader', 'Bob', 'Collins', 'Australian', 'politician', 'Bob', 'Collins', 'ref', 'cite', 'web', 'first', 'Antony', 'last', 'Green', 'authorlink', 'Antony', 'Green', 'title', 'Arnhem', 'work', '2005', 'Northern', 'Territory', 'Election', 'publisher', 'Australian', 'Broadcasting', 'Corporation', 'year', '2005', 'url', 'http', 'www', 'abc', 'net', 'au', 'elections', 'nt', '2005', 'guide', 'arnh', 'htm', 'accessdate', '31', 'October', '2010', 'ref', 'ref', 'name', 'jaensch', 'cite', 'book', 'last1', 'Jaensch', 'first1', 'Dean', 'title', 'The', 'Legislative', 'Council', 'of', 'the', 'Northern', 'Territory', 'An', 'Electoral', 'History', '1947', '1974', 'date', '1990', 'publisher', 'Australian', 'National', 'University', 'location', 'Darwin', 'ref', 'ref', 'name', 'three', 'cite', 'news', 'url', 'http', 'nla', 'gov', 'au', 'nla', 'news', 'article110859745', 'title', 'LABOR', 'HAS', 'THREE', 'SEATS', 'Country', 'Liberals', 'back', 'in', 'Northern', 'Territory', 'newspaper', 'The', 'Canberra', 'Times', 'location', 'Australian', 'Capital', 'Territory', 'Australia', 'date', '15', 'August', '1977', 'access', 'date', '28', 'December', '2019', 'page', '1', 'via', 'Trove', 'ref', 'ref', 'cite', 'news', 'url', 'https', 'www', 'newspapers', 'com', 'image', '122767931', 'title', 'Missionary', 'background', 'work', 'Sydney', 'Morning', 'Herald', 'date', '3', 'October', '1970', 'accessdate', '28', 'December', '2019', 'ref', 'ref', 'cite', 'news', 'url', 'http', 'nla', 'gov', 'au', 'nla', 'news', 'article136955103', 'title', 'Aborigine', 'beaten', 'in', 'NT', 'poll', 'newspaper', 'The', 'Canberra', 'Times', 'location', 'Australian', 'Capital', 'Territory', 'Australia', 'date', '13', 'November', '1968', 'access', 'date', '28', 'December', '2019', 'page', '10', 'via', 'Trove', 'ref', 'ref', 'cite', 'news', 'title', 'Former', 'Collins', 'rival', 'blasts', 'sex', 'claims', 'work', 'The', 'Australian', 'date', '6', 'July', '2004', 'ref', 'An', 'arch', 'conservative', 'he', 'claimed', 'in', '1970', 'that', 'the', 'conservative', 'Northern', 'Territory', 'News', 'was', 'communist', 'propaganda', 'that', 'was', 'helping', 'to', 'undermine', 'the', 'spiritual', 'and', 'moral', 'life', 'of', 'Australia', 'claimed', 'in', '1971', 'that', 'there', 'was', 'not', 'one', 'Aborigine', 'or', 'part', 'Aborigine', 'who', 'is', 'suitable', 'to', 'sit', 'in', 'the', 'Legislative', 'Council', 'and', 'in', '1973', 'was', 'the', 'only', 'Country', 'Party', 'MP', 'to', 'vote', 'against', 'legalising', 'nude', 'bathing', 'declaring', 'that', 'nudity', 'had', 'led', 'to', 'the', 'fall', 'of', 'the', 'Roman', 'Empire', 'Although', 'he', 'had', 'a', 'history', 'of', 'controversial', 'statements', 'about', 'indigenous', 'people', 'his', 'wife', 'Maluda', 'was', 'a', 'Torres', 'Strait', 'Islander', 'woman', 'Les', 'McFarlane', 'said', 'in', 'parliament', 'upon', 'his', 'death', 'that', 'it', 'amused', 'him', 'to', 'be', 'called', 'racist', 'look', 'at', 'me', 'he', 'would', 'say', 'a', 'racist', 'and', 'yet', 'happily', 'married', 'to', 'an', 'Aborigine', 'His', 'CLP', 'colleague', 'Hyacinth', 'Tungutalum', 'the', 'first', 'Indigenous', 'Australian', 'MP', 'in', 'the', 'Assembly', 'later', 'said', 'Aborigines', 'in', 'particular', 'should', 'honour', 'Rupert', 'Kentish', 'he', 'did', 'a', 'lot', 'for', 'us', 'ref', 'cite', 'news', 'url', 'https', 'www', 'newspapers', 'com', 'image', '123762168', 'title', 'Doom', 'warning', 'on', 'Darwin', 's', 'bare', 'issue', 'work', 'Sydney', 'Morning', 'Herald', 'date', '8', 'November', '1973', 'accessdate', '28', 'December', '2019', 'ref', 'ref', 'cite', 'news', 'title', 'NT', 'News', 'slated', 'as', 'an', 'organ', 'of', 'communism', 'work', 'Northern', 'Territory', 'News', 'date', '9', 'January', '2005', 'ref', 'ref', 'cite', 'news', 'url', 'http', 'nla', 'gov', 'au', 'nla', 'news', 'article237866690', 'title', 'A', 'BLACK', 'HISTORY', 'newspaper', 'Tribune', 'location', 'New', 'South', 'Wales', 'Australia', 'date', '26', 'May', '1971', 'access', 'date', '28', 'December', '2019', 'page', '8', 'via', 'Trove', 'ref', 'ref', 'name', 'pr', 'cite', 'web', 'url', 'https', 'parliament', 'nt', 'gov', 'au', '__data', 'assets', 'pdf_file', '0009', '367038', 'PR09', 'Debates', '27', 'February', '1979', '8', 'March', '1979', 'pdf', 'title', 'Parliamentary', 'Record', 'Second', 'Parliament', 'Second', 'Session', 'publisher', 'Parliament', 'of', 'the', 'Northern', 'Territory', 'accessdate', '28', 'December', '2019', 'ref', 'ref', 'cite', 'news', 'title', 'Landmark', 'day', 'in', 'Territory', 'politics', 'work', 'Northern', 'Territory', 'News', 'date', '19', 'October', '2004', 'ref', 'people', 'who', 'needed', 'it', 'url', 'https', 'ashtonc', 'ca', 'debate', 'mdr', 'Monash_Debating_Review', 'V12', 'pdf', 'journal', 'Monash', 'Debating', 'Review', 'volume', '12', 'pages', 'via', 'ref', 'Discontent', 'among', 'judges', 'who', 'had', 'been', 'offered', 'payment', 'in', 'return', 'for', 'participation', 'resulted', 'in', 'strike', 'threats', 'jeopardizing', 'the', '7th', 'round', 'of', 'the', 'tournament', 'There', 'were', 'also', 'complaints', 'from', 'Pakistani', 'participants', 'of', 'detention', 'by', 'Indian', 'immigration', 'authorities', 'ref', 'Cite', 'news', 'last', 'first', 'url', 'https', 'trinitynews', 'ie', '2014', '01', 'scandal', 'and', 'strike', 'threats', 'at', 'world', 'university', 'debating', 'competition', 'title', 'Scandal', 'and', 'strike', 'threats', 'at', 'World', 'University', 'Debating', 'Competition', 'date', 'Jan', '1', '2014', 'work', 'Trinity', 'News', 'access', 'date', 'Apr', '1', '2020', 'url', 'status', 'live', 'ref']\n",
      "['+++ ', \"+'''Timpoko Helène Kienon-Kabore''' is an [[archaeologist]]. She is a professor at the Research of Human Society and Science Unit at the [[Université Félix Houphouët-Boigny|University Felix Houphouet-Boigny]] of Cocody in [[Abidjan]], [[Ivory Coast|Côte d’Ivoire]].<ref>{{Cite web|url=https://www.historyoftechnology.org/about-us/international-scholars-program/international-scholar-timpoko-helene-kienon-kabore/|title=International Scholar: Timpoko Hélène Kiénon-Kaboré|date=2019-08-14|website=Society for the History of Technology (SHOT)|language=en|access-date=2019-11-16}}</ref> She is an advisor on archaeological heritage at the Ministry of Culture and Francophonie of Côte d'Ivoire.<ref>{{Cite web|url=http://www.ifrro.org/content/c%C3%B4te-d%E2%80%99ivoire-successful-seminar-towards-publishers-organised-burida-ifrro-support|title=Côte d'Ivoire: successful seminar towards publishers organised by BURIDA with IFRRO support|last=veraliah|first=|date=2016-06-10|website=www.ifrro.org|url-status=live|archive-url=|archive-date=|access-date=2019-12-04}}</ref>\"]\n",
      "['He', 'was', 'narrowly', 'elected', 'as', 'a', 'National', 'Party', 'of', 'Australia', 'Country', 'Party', 'member', 'of', 'the', 'Northern', 'Territory', 'Legislative', 'Council', 'in', '1968', 'defeating', 'George', 'Winunduj', 'the', 'first', 'indigenous', 'candidate', 'for', 'the', 'Council', 'by', '126', 'votes', 'Kentish', 'served', 'on', 'the', 'Legislative', 'Council', 'until', 'its', 'abolition', 'in', '1974', 'At', 'the', 'advent', 'of', 'self', 'governance', 'he', 'was', 'then', 'elected', 'as', 'the', 'Country', 'Liberal', 'Party', 'member', 'for', 'Electoral', 'division', 'of', 'Arnhem', 'Arnhem', 'in', 'the', 'Northern', 'Territory', 'Legislative', 'Assembly', 'from', '1974', 'until', '1977', 'when', 'he', 'was', 'soundly', 'defeated', 'by', 'future', 'Labor', 'leader', 'Bob', 'Collins', 'Australian', 'politician', 'Bob', 'Collins', 'ref', 'cite', 'web', 'first', 'Antony', 'last', 'Green', 'authorlink', 'Antony', 'Green', 'title', 'Arnhem', 'work', '2005', 'Northern', 'Territory', 'Election', 'publisher', 'Australian', 'Broadcasting', 'Corporation', 'year', '2005', 'url', 'http', 'www', 'abc', 'net', 'au', 'elections', 'nt', '2005', 'guide', 'arnh', 'htm', 'accessdate', '31', 'October', '2010', 'ref', 'ref', 'name', 'jaensch', 'cite', 'book', 'last1', 'Jaensch', 'first1', 'Dean', 'title', 'The', 'Legislative', 'Council', 'of', 'the', 'Northern', 'Territory', 'An', 'Electoral', 'History', '1947', '1974', 'date', '1990', 'publisher', 'Australian', 'National', 'University', 'location', 'Darwin', 'ref', 'ref', 'name', 'three', 'cite', 'news', 'url', 'http', 'nla', 'gov', 'au', 'nla', 'news', 'article110859745', 'title', 'LABOR', 'HAS', 'THREE', 'SEATS', 'Country', 'Liberals', 'back', 'in', 'Northern', 'Territory', 'newspaper', 'The', 'Canberra', 'Times', 'location', 'Australian', 'Capital', 'Territory', 'Australia', 'date', '15', 'August', '1977', 'access', 'date', '28', 'December', '2019', 'page', '1', 'via', 'Trove', 'ref', 'ref', 'cite', 'news', 'url', 'https', 'www', 'newspapers', 'com', 'image', '122767931', 'title', 'Missionary', 'background', 'work', 'Sydney', 'Morning', 'Herald', 'date', '3', 'October', '1970', 'accessdate', '28', 'December', '2019', 'ref', 'ref', 'cite', 'news', 'url', 'http', 'nla', 'gov', 'au', 'nla', 'news', 'article136955103', 'title', 'Aborigine', 'beaten', 'in', 'NT', 'poll', 'newspaper', 'The', 'Canberra', 'Times', 'location', 'Australian', 'Capital', 'Territory', 'Australia', 'date', '13', 'November', '1968', 'access', 'date', '28', 'December', '2019', 'page', '10', 'via', 'Trove', 'ref', 'ref', 'cite', 'news', 'title', 'Former', 'Collins', 'rival', 'blasts', 'sex', 'claims', 'work', 'The', 'Australian', 'date', '6', 'July', '2004', 'ref', 'An', 'arch', 'conservative', 'he', 'claimed', 'in', '1970', 'that', 'the', 'conservative', 'Northern', 'Territory', 'News', 'was', 'communist', 'propaganda', 'that', 'was', 'helping', 'to', 'undermine', 'the', 'spiritual', 'and', 'moral', 'life', 'of', 'Australia', 'claimed', 'in', '1971', 'that', 'there', 'was', 'not', 'one', 'Aborigine', 'or', 'part', 'Aborigine', 'who', 'is', 'suitable', 'to', 'sit', 'in', 'the', 'Legislative', 'Council', 'and', 'in', '1973', 'was', 'the', 'only', 'Country', 'Party', 'MP', 'to', 'vote', 'against', 'legalising', 'nude', 'bathing', 'declaring', 'that', 'nudity', 'had', 'led', 'to', 'the', 'fall', 'of', 'the', 'Roman', 'Empire', 'Although', 'he', 'had', 'a', 'history', 'of', 'controversial', 'statements', 'about', 'indigenous', 'people', 'his', 'wife', 'Maluda', 'was', 'a', 'Torres', 'Strait', 'Islander', 'woman', 'Les', 'McFarlane', 'said', 'in', 'parliament', 'upon', 'his', 'death', 'that', 'it', 'amused', 'him', 'to', 'be', 'called', 'racist', 'look', 'at', 'me', 'he', 'would', 'say', 'a', 'racist', 'and', 'yet', 'happily', 'married', 'to', 'an', 'Aborigine', 'His', 'CLP', 'colleague', 'Hyacinth', 'Tungutalum', 'the', 'first', 'Indigenous', 'Australian', 'MP', 'in', 'the', 'Assembly', 'later', 'said', 'Aborigines', 'in', 'particular', 'should', 'honour', 'Rupert', 'Kentish', 'he', 'did', 'a', 'lot', 'for', 'us', 'ref', 'cite', 'news', 'url', 'https', 'www', 'newspapers', 'com', 'image', '123762168', 'title', 'Doom', 'warning', 'on', 'Darwin', 's', 'bare', 'issue', 'work', 'Sydney', 'Morning', 'Herald', 'date', '8', 'November', '1973', 'accessdate', '28', 'December', '2019', 'ref', 'ref', 'cite', 'news', 'title', 'NT', 'News', 'slated', 'as', 'an', 'organ', 'of', 'communism', 'work', 'Northern', 'Territory', 'News', 'date', '9', 'January', '2005', 'ref', 'ref', 'cite', 'news', 'url', 'http', 'nla', 'gov', 'au', 'nla', 'news', 'article237866690', 'title', 'A', 'BLACK', 'HISTORY', 'newspaper', 'Tribune', 'location', 'New', 'South', 'Wales', 'Australia', 'date', '26', 'May', '1971', 'access', 'date', '28', 'December', '2019', 'page', '8', 'via', 'Trove', 'ref', 'ref', 'name', 'pr', 'cite', 'web', 'url', 'https', 'parliament', 'nt', 'gov', 'au', '__data', 'assets', 'pdf_file', '0009', '367038', 'PR09', 'Debates', '27', 'February', '1979', '8', 'March', '1979', 'pdf', 'title', 'Parliamentary', 'Record', 'Second', 'Parliament', 'Second', 'Session', 'publisher', 'Parliament', 'of', 'the', 'Northern', 'Territory', 'accessdate', '28', 'December', '2019', 'ref', 'ref', 'cite', 'news', 'title', 'Landmark', 'day', 'in', 'Territory', 'politics', 'work', 'Northern', 'Territory', 'News', 'date', '19', 'October', '2004', 'ref', 'people', 'who', 'needed', 'it', 'url', 'https', 'ashtonc', 'ca', 'debate', 'mdr', 'Monash_Debating_Review', 'V12', 'pdf', 'journal', 'Monash', 'Debating', 'Review', 'volume', '12', 'pages', 'via', 'ref', 'Discontent', 'among', 'judges', 'who', 'had', 'been', 'offered', 'payment', 'in', 'return', 'for', 'participation', 'resulted', 'in', 'strike', 'threats', 'jeopardizing', 'the', '7th', 'round', 'of', 'the', 'tournament', 'There', 'were', 'also', 'complaints', 'from', 'Pakistani', 'participants', 'of', 'detention', 'by', 'Indian', 'immigration', 'authorities', 'ref', 'Cite', 'news', 'last', 'first', 'url', 'https', 'trinitynews', 'ie', '2014', '01', 'scandal', 'and', 'strike', 'threats', 'at', 'world', 'university', 'debating', 'competition', 'title', 'Scandal', 'and', 'strike', 'threats', 'at', 'World', 'University', 'Debating', 'Competition', 'date', 'Jan', '1', '2014', 'work', 'Trinity', 'News', 'access', 'date', 'Apr', '1', '2020', 'url', 'status', 'live', 'ref', 'Timpoko', 'Helène', 'Kienon', 'Kabore', 'is', 'an', 'archaeologist', 'She', 'is', 'a', 'professor', 'at', 'the', 'Research', 'of', 'Human', 'Society', 'and', 'Science', 'Unit', 'at', 'the', 'Université', 'Félix', 'Houphouët', 'Boigny', 'University', 'Felix', 'Houphouet', 'Boigny', 'of', 'Cocody', 'in', 'Abidjan', 'Ivory', 'Coast', 'Côte', 'd', 'Ivoire', 'ref', 'Cite', 'web', 'url', 'https', 'www', 'historyoftechnology', 'org', 'about', 'us', 'international', 'scholars', 'program', 'international', 'scholar', 'timpoko', 'helene', 'kienon', 'kabore', 'title', 'International', 'Scholar', 'Timpoko', 'Hélène', 'Kiénon', 'Kaboré', 'date', '2019', '08', '14', 'website', 'Society', 'for', 'the', 'History', 'of', 'Technology', 'SHOT', 'language', 'en', 'access', 'date', '2019', '11', '16', 'ref', 'She', 'is', 'an', 'advisor', 'on', 'archaeological', 'heritage', 'at', 'the', 'Ministry', 'of', 'Culture', 'and', 'Francophonie', 'of', 'Côte', 'd', 'Ivoire', 'ref', 'Cite', 'web', 'url', 'http', 'www', 'ifrro', 'org', 'content', 'c', 'C3', 'B4te', 'd', 'E2', '80', '99ivoire', 'successful', 'seminar', 'towards', 'publishers', 'organised', 'burida', 'ifrro', 'support', 'title', 'Côte', 'd', 'Ivoire', 'successful', 'seminar', 'towards', 'publishers', 'organised', 'by', 'BURIDA', 'with', 'IFRRO', 'support', 'last', 'veraliah', 'first', 'date', '2016', '06', '10', 'website', 'www', 'ifrro', 'org', 'url', 'status', 'live', 'archive', 'url', 'archive', 'date', 'access', 'date', '2019', '12', '04', 'ref']\n",
      "['+++ ', '+\\'\\'\\'Whole Foods Market Inc.\\'\\'\\' is an American multinational [[supermarket]] [[chain store|chain]] headquartered in [[Austin, Texas]], which exclusively sells products free from hydrogenated fats and artificial colors, flavors, and preservatives.<ref>{{Cite web|url=https://www.wholefoodsmarket.com/about-our-products/quality-standards/food-ingredient|title=Food Ingredient Quality Standards|date=March 12, 2012|website=Whole Foods Market}}</ref> A [[USDA]] [[Certified Organic]] grocer in the United States, the chain is popularly known for its [[Organic food|organic selections]].<ref>{{Cite web|url=https://www.wholefoodsmarket.com/about-our-products/organic-food/organic-grocer|title=Certified Organic Grocer|date=April 7, 2016|website=Whole Foods Market}}</ref> Whole Foods has 500 stores in North America and the seven in the United Kingdom {{As of|2019|3|4|df=US|lc=|since=}}.<ref name=\"WholeFoodsCompanyInfo\">{{cite web|url=http://www.wholefoodsmarket.com/company-info|title=Whole Foods Company Info|website=WholeFoods.com|accessdate=22 January 2018}}</ref><ref name=locations>{{cite web|url=https://www.usnews.com/news/top-news/articles/2020-03-31/some-whole-foods-workers-call-for-sick-out|title=Independent Worker Group Calls for Whole Foods|access-date=2020/31/03}}</ref>']\n",
      "['He', 'was', 'narrowly', 'elected', 'as', 'a', 'National', 'Party', 'of', 'Australia', 'Country', 'Party', 'member', 'of', 'the', 'Northern', 'Territory', 'Legislative', 'Council', 'in', '1968', 'defeating', 'George', 'Winunduj', 'the', 'first', 'indigenous', 'candidate', 'for', 'the', 'Council', 'by', '126', 'votes', 'Kentish', 'served', 'on', 'the', 'Legislative', 'Council', 'until', 'its', 'abolition', 'in', '1974', 'At', 'the', 'advent', 'of', 'self', 'governance', 'he', 'was', 'then', 'elected', 'as', 'the', 'Country', 'Liberal', 'Party', 'member', 'for', 'Electoral', 'division', 'of', 'Arnhem', 'Arnhem', 'in', 'the', 'Northern', 'Territory', 'Legislative', 'Assembly', 'from', '1974', 'until', '1977', 'when', 'he', 'was', 'soundly', 'defeated', 'by', 'future', 'Labor', 'leader', 'Bob', 'Collins', 'Australian', 'politician', 'Bob', 'Collins', 'ref', 'cite', 'web', 'first', 'Antony', 'last', 'Green', 'authorlink', 'Antony', 'Green', 'title', 'Arnhem', 'work', '2005', 'Northern', 'Territory', 'Election', 'publisher', 'Australian', 'Broadcasting', 'Corporation', 'year', '2005', 'url', 'http', 'www', 'abc', 'net', 'au', 'elections', 'nt', '2005', 'guide', 'arnh', 'htm', 'accessdate', '31', 'October', '2010', 'ref', 'ref', 'name', 'jaensch', 'cite', 'book', 'last1', 'Jaensch', 'first1', 'Dean', 'title', 'The', 'Legislative', 'Council', 'of', 'the', 'Northern', 'Territory', 'An', 'Electoral', 'History', '1947', '1974', 'date', '1990', 'publisher', 'Australian', 'National', 'University', 'location', 'Darwin', 'ref', 'ref', 'name', 'three', 'cite', 'news', 'url', 'http', 'nla', 'gov', 'au', 'nla', 'news', 'article110859745', 'title', 'LABOR', 'HAS', 'THREE', 'SEATS', 'Country', 'Liberals', 'back', 'in', 'Northern', 'Territory', 'newspaper', 'The', 'Canberra', 'Times', 'location', 'Australian', 'Capital', 'Territory', 'Australia', 'date', '15', 'August', '1977', 'access', 'date', '28', 'December', '2019', 'page', '1', 'via', 'Trove', 'ref', 'ref', 'cite', 'news', 'url', 'https', 'www', 'newspapers', 'com', 'image', '122767931', 'title', 'Missionary', 'background', 'work', 'Sydney', 'Morning', 'Herald', 'date', '3', 'October', '1970', 'accessdate', '28', 'December', '2019', 'ref', 'ref', 'cite', 'news', 'url', 'http', 'nla', 'gov', 'au', 'nla', 'news', 'article136955103', 'title', 'Aborigine', 'beaten', 'in', 'NT', 'poll', 'newspaper', 'The', 'Canberra', 'Times', 'location', 'Australian', 'Capital', 'Territory', 'Australia', 'date', '13', 'November', '1968', 'access', 'date', '28', 'December', '2019', 'page', '10', 'via', 'Trove', 'ref', 'ref', 'cite', 'news', 'title', 'Former', 'Collins', 'rival', 'blasts', 'sex', 'claims', 'work', 'The', 'Australian', 'date', '6', 'July', '2004', 'ref', 'An', 'arch', 'conservative', 'he', 'claimed', 'in', '1970', 'that', 'the', 'conservative', 'Northern', 'Territory', 'News', 'was', 'communist', 'propaganda', 'that', 'was', 'helping', 'to', 'undermine', 'the', 'spiritual', 'and', 'moral', 'life', 'of', 'Australia', 'claimed', 'in', '1971', 'that', 'there', 'was', 'not', 'one', 'Aborigine', 'or', 'part', 'Aborigine', 'who', 'is', 'suitable', 'to', 'sit', 'in', 'the', 'Legislative', 'Council', 'and', 'in', '1973', 'was', 'the', 'only', 'Country', 'Party', 'MP', 'to', 'vote', 'against', 'legalising', 'nude', 'bathing', 'declaring', 'that', 'nudity', 'had', 'led', 'to', 'the', 'fall', 'of', 'the', 'Roman', 'Empire', 'Although', 'he', 'had', 'a', 'history', 'of', 'controversial', 'statements', 'about', 'indigenous', 'people', 'his', 'wife', 'Maluda', 'was', 'a', 'Torres', 'Strait', 'Islander', 'woman', 'Les', 'McFarlane', 'said', 'in', 'parliament', 'upon', 'his', 'death', 'that', 'it', 'amused', 'him', 'to', 'be', 'called', 'racist', 'look', 'at', 'me', 'he', 'would', 'say', 'a', 'racist', 'and', 'yet', 'happily', 'married', 'to', 'an', 'Aborigine', 'His', 'CLP', 'colleague', 'Hyacinth', 'Tungutalum', 'the', 'first', 'Indigenous', 'Australian', 'MP', 'in', 'the', 'Assembly', 'later', 'said', 'Aborigines', 'in', 'particular', 'should', 'honour', 'Rupert', 'Kentish', 'he', 'did', 'a', 'lot', 'for', 'us', 'ref', 'cite', 'news', 'url', 'https', 'www', 'newspapers', 'com', 'image', '123762168', 'title', 'Doom', 'warning', 'on', 'Darwin', 's', 'bare', 'issue', 'work', 'Sydney', 'Morning', 'Herald', 'date', '8', 'November', '1973', 'accessdate', '28', 'December', '2019', 'ref', 'ref', 'cite', 'news', 'title', 'NT', 'News', 'slated', 'as', 'an', 'organ', 'of', 'communism', 'work', 'Northern', 'Territory', 'News', 'date', '9', 'January', '2005', 'ref', 'ref', 'cite', 'news', 'url', 'http', 'nla', 'gov', 'au', 'nla', 'news', 'article237866690', 'title', 'A', 'BLACK', 'HISTORY', 'newspaper', 'Tribune', 'location', 'New', 'South', 'Wales', 'Australia', 'date', '26', 'May', '1971', 'access', 'date', '28', 'December', '2019', 'page', '8', 'via', 'Trove', 'ref', 'ref', 'name', 'pr', 'cite', 'web', 'url', 'https', 'parliament', 'nt', 'gov', 'au', '__data', 'assets', 'pdf_file', '0009', '367038', 'PR09', 'Debates', '27', 'February', '1979', '8', 'March', '1979', 'pdf', 'title', 'Parliamentary', 'Record', 'Second', 'Parliament', 'Second', 'Session', 'publisher', 'Parliament', 'of', 'the', 'Northern', 'Territory', 'accessdate', '28', 'December', '2019', 'ref', 'ref', 'cite', 'news', 'title', 'Landmark', 'day', 'in', 'Territory', 'politics', 'work', 'Northern', 'Territory', 'News', 'date', '19', 'October', '2004', 'ref', 'people', 'who', 'needed', 'it', 'url', 'https', 'ashtonc', 'ca', 'debate', 'mdr', 'Monash_Debating_Review', 'V12', 'pdf', 'journal', 'Monash', 'Debating', 'Review', 'volume', '12', 'pages', 'via', 'ref', 'Discontent', 'among', 'judges', 'who', 'had', 'been', 'offered', 'payment', 'in', 'return', 'for', 'participation', 'resulted', 'in', 'strike', 'threats', 'jeopardizing', 'the', '7th', 'round', 'of', 'the', 'tournament', 'There', 'were', 'also', 'complaints', 'from', 'Pakistani', 'participants', 'of', 'detention', 'by', 'Indian', 'immigration', 'authorities', 'ref', 'Cite', 'news', 'last', 'first', 'url', 'https', 'trinitynews', 'ie', '2014', '01', 'scandal', 'and', 'strike', 'threats', 'at', 'world', 'university', 'debating', 'competition', 'title', 'Scandal', 'and', 'strike', 'threats', 'at', 'World', 'University', 'Debating', 'Competition', 'date', 'Jan', '1', '2014', 'work', 'Trinity', 'News', 'access', 'date', 'Apr', '1', '2020', 'url', 'status', 'live', 'ref', 'Timpoko', 'Helène', 'Kienon', 'Kabore', 'is', 'an', 'archaeologist', 'She', 'is', 'a', 'professor', 'at', 'the', 'Research', 'of', 'Human', 'Society', 'and', 'Science', 'Unit', 'at', 'the', 'Université', 'Félix', 'Houphouët', 'Boigny', 'University', 'Felix', 'Houphouet', 'Boigny', 'of', 'Cocody', 'in', 'Abidjan', 'Ivory', 'Coast', 'Côte', 'd', 'Ivoire', 'ref', 'Cite', 'web', 'url', 'https', 'www', 'historyoftechnology', 'org', 'about', 'us', 'international', 'scholars', 'program', 'international', 'scholar', 'timpoko', 'helene', 'kienon', 'kabore', 'title', 'International', 'Scholar', 'Timpoko', 'Hélène', 'Kiénon', 'Kaboré', 'date', '2019', '08', '14', 'website', 'Society', 'for', 'the', 'History', 'of', 'Technology', 'SHOT', 'language', 'en', 'access', 'date', '2019', '11', '16', 'ref', 'She', 'is', 'an', 'advisor', 'on', 'archaeological', 'heritage', 'at', 'the', 'Ministry', 'of', 'Culture', 'and', 'Francophonie', 'of', 'Côte', 'd', 'Ivoire', 'ref', 'Cite', 'web', 'url', 'http', 'www', 'ifrro', 'org', 'content', 'c', 'C3', 'B4te', 'd', 'E2', '80', '99ivoire', 'successful', 'seminar', 'towards', 'publishers', 'organised', 'burida', 'ifrro', 'support', 'title', 'Côte', 'd', 'Ivoire', 'successful', 'seminar', 'towards', 'publishers', 'organised', 'by', 'BURIDA', 'with', 'IFRRO', 'support', 'last', 'veraliah', 'first', 'date', '2016', '06', '10', 'website', 'www', 'ifrro', 'org', 'url', 'status', 'live', 'archive', 'url', 'archive', 'date', 'access', 'date', '2019', '12', '04', 'ref', 'Whole', 'Foods', 'Market', 'Inc', 'is', 'an', 'American', 'multinational', 'supermarket', 'chain', 'store', 'chain', 'headquartered', 'in', 'Austin', 'Texas', 'which', 'exclusively', 'sells', 'products', 'free', 'from', 'hydrogenated', 'fats', 'and', 'artificial', 'colors', 'flavors', 'and', 'preservatives', 'ref', 'Cite', 'web', 'url', 'https', 'www', 'wholefoodsmarket', 'com', 'about', 'our', 'products', 'quality', 'standards', 'food', 'ingredient', 'title', 'Food', 'Ingredient', 'Quality', 'Standards', 'date', 'March', '12', '2012', 'website', 'Whole', 'Foods', 'Market', 'ref', 'A', 'USDA', 'Certified', 'Organic', 'grocer', 'in', 'the', 'United', 'States', 'the', 'chain', 'is', 'popularly', 'known', 'for', 'its', 'Organic', 'food', 'organic', 'selections', 'ref', 'Cite', 'web', 'url', 'https', 'www', 'wholefoodsmarket', 'com', 'about', 'our', 'products', 'organic', 'food', 'organic', 'grocer', 'title', 'Certified', 'Organic', 'Grocer', 'date', 'April', '7', '2016', 'website', 'Whole', 'Foods', 'Market', 'ref', 'Whole', 'Foods', 'has', '500', 'stores', 'in', 'North', 'America', 'and', 'the', 'seven', 'in', 'the', 'United', 'Kingdom', 'As', 'of', '2019', '3', '4', 'df', 'US', 'lc', 'since', 'ref', 'name', 'WholeFoodsCompanyInfo', 'cite', 'web', 'url', 'http', 'www', 'wholefoodsmarket', 'com', 'company', 'info', 'title', 'Whole', 'Foods', 'Company', 'Info', 'website', 'WholeFoods', 'com', 'accessdate', '22', 'January', '2018', 'ref', 'ref', 'name', 'locations', 'cite', 'web', 'url', 'https', 'www', 'usnews', 'com', 'news', 'top', 'news', 'articles', '2020', '03', '31', 'some', 'whole', 'foods', 'workers', 'call', 'for', 'sick', 'out', 'title', 'Independent', 'Worker', 'Group', 'Calls', 'for', 'Whole', 'Foods', 'access', 'date', '2020', '31', '03', 'ref']\n",
      "['+++ ', '+* {{cite book |last=Jackson |first=P. |title=France and the Nazi Menace: Intelligence and Policy Making, 1933–1939 |year=2000 |publisher=Oxford University Press |location=Oxford |isbn=0-19820-834-0 |ref=harv}}']\n",
      "['He', 'was', 'narrowly', 'elected', 'as', 'a', 'National', 'Party', 'of', 'Australia', 'Country', 'Party', 'member', 'of', 'the', 'Northern', 'Territory', 'Legislative', 'Council', 'in', '1968', 'defeating', 'George', 'Winunduj', 'the', 'first', 'indigenous', 'candidate', 'for', 'the', 'Council', 'by', '126', 'votes', 'Kentish', 'served', 'on', 'the', 'Legislative', 'Council', 'until', 'its', 'abolition', 'in', '1974', 'At', 'the', 'advent', 'of', 'self', 'governance', 'he', 'was', 'then', 'elected', 'as', 'the', 'Country', 'Liberal', 'Party', 'member', 'for', 'Electoral', 'division', 'of', 'Arnhem', 'Arnhem', 'in', 'the', 'Northern', 'Territory', 'Legislative', 'Assembly', 'from', '1974', 'until', '1977', 'when', 'he', 'was', 'soundly', 'defeated', 'by', 'future', 'Labor', 'leader', 'Bob', 'Collins', 'Australian', 'politician', 'Bob', 'Collins', 'ref', 'cite', 'web', 'first', 'Antony', 'last', 'Green', 'authorlink', 'Antony', 'Green', 'title', 'Arnhem', 'work', '2005', 'Northern', 'Territory', 'Election', 'publisher', 'Australian', 'Broadcasting', 'Corporation', 'year', '2005', 'url', 'http', 'www', 'abc', 'net', 'au', 'elections', 'nt', '2005', 'guide', 'arnh', 'htm', 'accessdate', '31', 'October', '2010', 'ref', 'ref', 'name', 'jaensch', 'cite', 'book', 'last1', 'Jaensch', 'first1', 'Dean', 'title', 'The', 'Legislative', 'Council', 'of', 'the', 'Northern', 'Territory', 'An', 'Electoral', 'History', '1947', '1974', 'date', '1990', 'publisher', 'Australian', 'National', 'University', 'location', 'Darwin', 'ref', 'ref', 'name', 'three', 'cite', 'news', 'url', 'http', 'nla', 'gov', 'au', 'nla', 'news', 'article110859745', 'title', 'LABOR', 'HAS', 'THREE', 'SEATS', 'Country', 'Liberals', 'back', 'in', 'Northern', 'Territory', 'newspaper', 'The', 'Canberra', 'Times', 'location', 'Australian', 'Capital', 'Territory', 'Australia', 'date', '15', 'August', '1977', 'access', 'date', '28', 'December', '2019', 'page', '1', 'via', 'Trove', 'ref', 'ref', 'cite', 'news', 'url', 'https', 'www', 'newspapers', 'com', 'image', '122767931', 'title', 'Missionary', 'background', 'work', 'Sydney', 'Morning', 'Herald', 'date', '3', 'October', '1970', 'accessdate', '28', 'December', '2019', 'ref', 'ref', 'cite', 'news', 'url', 'http', 'nla', 'gov', 'au', 'nla', 'news', 'article136955103', 'title', 'Aborigine', 'beaten', 'in', 'NT', 'poll', 'newspaper', 'The', 'Canberra', 'Times', 'location', 'Australian', 'Capital', 'Territory', 'Australia', 'date', '13', 'November', '1968', 'access', 'date', '28', 'December', '2019', 'page', '10', 'via', 'Trove', 'ref', 'ref', 'cite', 'news', 'title', 'Former', 'Collins', 'rival', 'blasts', 'sex', 'claims', 'work', 'The', 'Australian', 'date', '6', 'July', '2004', 'ref', 'An', 'arch', 'conservative', 'he', 'claimed', 'in', '1970', 'that', 'the', 'conservative', 'Northern', 'Territory', 'News', 'was', 'communist', 'propaganda', 'that', 'was', 'helping', 'to', 'undermine', 'the', 'spiritual', 'and', 'moral', 'life', 'of', 'Australia', 'claimed', 'in', '1971', 'that', 'there', 'was', 'not', 'one', 'Aborigine', 'or', 'part', 'Aborigine', 'who', 'is', 'suitable', 'to', 'sit', 'in', 'the', 'Legislative', 'Council', 'and', 'in', '1973', 'was', 'the', 'only', 'Country', 'Party', 'MP', 'to', 'vote', 'against', 'legalising', 'nude', 'bathing', 'declaring', 'that', 'nudity', 'had', 'led', 'to', 'the', 'fall', 'of', 'the', 'Roman', 'Empire', 'Although', 'he', 'had', 'a', 'history', 'of', 'controversial', 'statements', 'about', 'indigenous', 'people', 'his', 'wife', 'Maluda', 'was', 'a', 'Torres', 'Strait', 'Islander', 'woman', 'Les', 'McFarlane', 'said', 'in', 'parliament', 'upon', 'his', 'death', 'that', 'it', 'amused', 'him', 'to', 'be', 'called', 'racist', 'look', 'at', 'me', 'he', 'would', 'say', 'a', 'racist', 'and', 'yet', 'happily', 'married', 'to', 'an', 'Aborigine', 'His', 'CLP', 'colleague', 'Hyacinth', 'Tungutalum', 'the', 'first', 'Indigenous', 'Australian', 'MP', 'in', 'the', 'Assembly', 'later', 'said', 'Aborigines', 'in', 'particular', 'should', 'honour', 'Rupert', 'Kentish', 'he', 'did', 'a', 'lot', 'for', 'us', 'ref', 'cite', 'news', 'url', 'https', 'www', 'newspapers', 'com', 'image', '123762168', 'title', 'Doom', 'warning', 'on', 'Darwin', 's', 'bare', 'issue', 'work', 'Sydney', 'Morning', 'Herald', 'date', '8', 'November', '1973', 'accessdate', '28', 'December', '2019', 'ref', 'ref', 'cite', 'news', 'title', 'NT', 'News', 'slated', 'as', 'an', 'organ', 'of', 'communism', 'work', 'Northern', 'Territory', 'News', 'date', '9', 'January', '2005', 'ref', 'ref', 'cite', 'news', 'url', 'http', 'nla', 'gov', 'au', 'nla', 'news', 'article237866690', 'title', 'A', 'BLACK', 'HISTORY', 'newspaper', 'Tribune', 'location', 'New', 'South', 'Wales', 'Australia', 'date', '26', 'May', '1971', 'access', 'date', '28', 'December', '2019', 'page', '8', 'via', 'Trove', 'ref', 'ref', 'name', 'pr', 'cite', 'web', 'url', 'https', 'parliament', 'nt', 'gov', 'au', '__data', 'assets', 'pdf_file', '0009', '367038', 'PR09', 'Debates', '27', 'February', '1979', '8', 'March', '1979', 'pdf', 'title', 'Parliamentary', 'Record', 'Second', 'Parliament', 'Second', 'Session', 'publisher', 'Parliament', 'of', 'the', 'Northern', 'Territory', 'accessdate', '28', 'December', '2019', 'ref', 'ref', 'cite', 'news', 'title', 'Landmark', 'day', 'in', 'Territory', 'politics', 'work', 'Northern', 'Territory', 'News', 'date', '19', 'October', '2004', 'ref', 'people', 'who', 'needed', 'it', 'url', 'https', 'ashtonc', 'ca', 'debate', 'mdr', 'Monash_Debating_Review', 'V12', 'pdf', 'journal', 'Monash', 'Debating', 'Review', 'volume', '12', 'pages', 'via', 'ref', 'Discontent', 'among', 'judges', 'who', 'had', 'been', 'offered', 'payment', 'in', 'return', 'for', 'participation', 'resulted', 'in', 'strike', 'threats', 'jeopardizing', 'the', '7th', 'round', 'of', 'the', 'tournament', 'There', 'were', 'also', 'complaints', 'from', 'Pakistani', 'participants', 'of', 'detention', 'by', 'Indian', 'immigration', 'authorities', 'ref', 'Cite', 'news', 'last', 'first', 'url', 'https', 'trinitynews', 'ie', '2014', '01', 'scandal', 'and', 'strike', 'threats', 'at', 'world', 'university', 'debating', 'competition', 'title', 'Scandal', 'and', 'strike', 'threats', 'at', 'World', 'University', 'Debating', 'Competition', 'date', 'Jan', '1', '2014', 'work', 'Trinity', 'News', 'access', 'date', 'Apr', '1', '2020', 'url', 'status', 'live', 'ref', 'Timpoko', 'Helène', 'Kienon', 'Kabore', 'is', 'an', 'archaeologist', 'She', 'is', 'a', 'professor', 'at', 'the', 'Research', 'of', 'Human', 'Society', 'and', 'Science', 'Unit', 'at', 'the', 'Université', 'Félix', 'Houphouët', 'Boigny', 'University', 'Felix', 'Houphouet', 'Boigny', 'of', 'Cocody', 'in', 'Abidjan', 'Ivory', 'Coast', 'Côte', 'd', 'Ivoire', 'ref', 'Cite', 'web', 'url', 'https', 'www', 'historyoftechnology', 'org', 'about', 'us', 'international', 'scholars', 'program', 'international', 'scholar', 'timpoko', 'helene', 'kienon', 'kabore', 'title', 'International', 'Scholar', 'Timpoko', 'Hélène', 'Kiénon', 'Kaboré', 'date', '2019', '08', '14', 'website', 'Society', 'for', 'the', 'History', 'of', 'Technology', 'SHOT', 'language', 'en', 'access', 'date', '2019', '11', '16', 'ref', 'She', 'is', 'an', 'advisor', 'on', 'archaeological', 'heritage', 'at', 'the', 'Ministry', 'of', 'Culture', 'and', 'Francophonie', 'of', 'Côte', 'd', 'Ivoire', 'ref', 'Cite', 'web', 'url', 'http', 'www', 'ifrro', 'org', 'content', 'c', 'C3', 'B4te', 'd', 'E2', '80', '99ivoire', 'successful', 'seminar', 'towards', 'publishers', 'organised', 'burida', 'ifrro', 'support', 'title', 'Côte', 'd', 'Ivoire', 'successful', 'seminar', 'towards', 'publishers', 'organised', 'by', 'BURIDA', 'with', 'IFRRO', 'support', 'last', 'veraliah', 'first', 'date', '2016', '06', '10', 'website', 'www', 'ifrro', 'org', 'url', 'status', 'live', 'archive', 'url', 'archive', 'date', 'access', 'date', '2019', '12', '04', 'ref', 'Whole', 'Foods', 'Market', 'Inc', 'is', 'an', 'American', 'multinational', 'supermarket', 'chain', 'store', 'chain', 'headquartered', 'in', 'Austin', 'Texas', 'which', 'exclusively', 'sells', 'products', 'free', 'from', 'hydrogenated', 'fats', 'and', 'artificial', 'colors', 'flavors', 'and', 'preservatives', 'ref', 'Cite', 'web', 'url', 'https', 'www', 'wholefoodsmarket', 'com', 'about', 'our', 'products', 'quality', 'standards', 'food', 'ingredient', 'title', 'Food', 'Ingredient', 'Quality', 'Standards', 'date', 'March', '12', '2012', 'website', 'Whole', 'Foods', 'Market', 'ref', 'A', 'USDA', 'Certified', 'Organic', 'grocer', 'in', 'the', 'United', 'States', 'the', 'chain', 'is', 'popularly', 'known', 'for', 'its', 'Organic', 'food', 'organic', 'selections', 'ref', 'Cite', 'web', 'url', 'https', 'www', 'wholefoodsmarket', 'com', 'about', 'our', 'products', 'organic', 'food', 'organic', 'grocer', 'title', 'Certified', 'Organic', 'Grocer', 'date', 'April', '7', '2016', 'website', 'Whole', 'Foods', 'Market', 'ref', 'Whole', 'Foods', 'has', '500', 'stores', 'in', 'North', 'America', 'and', 'the', 'seven', 'in', 'the', 'United', 'Kingdom', 'As', 'of', '2019', '3', '4', 'df', 'US', 'lc', 'since', 'ref', 'name', 'WholeFoodsCompanyInfo', 'cite', 'web', 'url', 'http', 'www', 'wholefoodsmarket', 'com', 'company', 'info', 'title', 'Whole', 'Foods', 'Company', 'Info', 'website', 'WholeFoods', 'com', 'accessdate', '22', 'January', '2018', 'ref', 'ref', 'name', 'locations', 'cite', 'web', 'url', 'https', 'www', 'usnews', 'com', 'news', 'top', 'news', 'articles', '2020', '03', '31', 'some', 'whole', 'foods', 'workers', 'call', 'for', 'sick', 'out', 'title', 'Independent', 'Worker', 'Group', 'Calls', 'for', 'Whole', 'Foods', 'access', 'date', '2020', '31', '03', 'ref', 'cite', 'book', 'last', 'Jackson', 'first', 'P', 'title', 'France', 'and', 'the', 'Nazi', 'Menace', 'Intelligence', 'and', 'Policy', 'Making', '1933', '1939', 'year', '2000', 'publisher', 'Oxford', 'University', 'Press', 'location', 'Oxford', 'isbn', '0', '19820', '834', '0', 'ref', 'harv']\n"
     ]
    }
   ],
   "source": [
    "from nltk.tokenize import RegexpTokenizer\n",
    "all_words = []\n",
    "tokenizer = RegexpTokenizer(r'\\w+')\n",
    "for entry in os.scandir(cwd + '\\Data\\\\test'):\n",
    "    with open(entry) as f:\n",
    "        text = f.read()\n",
    "        data = json.loads(text)\n",
    "        diff = make_diff(data['text_old'], data['text_new'])\n",
    "        added = get_added_text(diff)\n",
    "        for i in added:\n",
    "            tokens = tokenizer.tokenize(i)#word_tokenize(i)\n",
    "            all_words += tokens\n",
    "        print(all_words)"
   ]
  },
  {
   "cell_type": "code",
   "execution_count": 166,
   "metadata": {},
   "outputs": [
    {
     "name": "stdout",
     "output_type": "stream",
     "text": [
      "Counter({'ref': 38, 'the': 28, 'date': 22, 'in': 20, 'title': 19, 'of': 18, 'url': 18, 'cite': 14, 'news': 14, 'Territory': 12, 'and': 12, 'www': 10, '2019': 10, 'Northern': 9, 'https': 9, 'was': 8, 'for': 8, 'web': 8, 'Australian': 7, 'work': 7, 'access': 7, 'com': 7, 'a': 6, 'first': 6, 'he': 6, 'http': 6, 'nla': 6, '28': 6, 'December': 6, 'to': 6, 'is': 6, 'at': 6, 'Whole': 6, 'Foods': 6, 'Australia': 5, 'Legislative': 5, 'Council': 5, 'au': 5, 'accessdate': 5, 'name': 5, 'location': 5, 'that': 5, 'News': 5, 'an': 5, 'Cite': 5, 'website': 5, 'Party': 4, 'Country': 4, 'by': 4, 'last': 4, '2005': 4, 'publisher': 4, 'The': 4, 'University': 4, 'gov': 4, 'via': 4, 'Aborigine': 4, 'about': 4, 'd': 4, 'as': 3, 'on': 3, '1974': 3, 'Arnhem': 3, 'from': 3, 'Collins': 3, '31': 3, 'October': 3, 'newspaper': 3, 'page': 3, '1': 3, 'Trove': 3, 'who': 3, 'had': 3, '8': 3, '12': 3, 'strike': 3, 'threats': 3, '2020': 3, 'Côte': 3, 'Ivoire': 3, 'org': 3, 'ifrro': 3, 'Market': 3, 'chain': 3, 'products': 3, 'wholefoodsmarket': 3, 'food': 3, 'Organic': 3, 'organic': 3, 'elected': 2, 'National': 2, 'member': 2, '1968': 2, 'indigenous': 2, 'Kentish': 2, 'until': 2, 'its': 2, 'Electoral': 2, 'Assembly': 2, '1977': 2, 'Bob': 2, 'Antony': 2, 'Green': 2, 'year': 2, 'nt': 2, 'book': 2, 'An': 2, 'History': 2, 'Darwin': 2, 'Canberra': 2, 'Times': 2, 'Capital': 2, 'newspapers': 2, 'image': 2, 'Sydney': 2, 'Morning': 2, 'Herald': 2, '3': 2, '1970': 2, 'NT': 2, 'November': 2, '10': 2, '2004': 2, 'conservative': 2, 'claimed': 2, '1971': 2, '1973': 2, 'MP': 2, 'people': 2, 'his': 2, 'said': 2, 'parliament': 2, 'it': 2, 'racist': 2, 'us': 2, 'January': 2, 'A': 2, '1979': 2, 'March': 2, 'pdf': 2, 'Second': 2, 'Parliament': 2, 'Debating': 2, '2014': 2, 'status': 2, 'live': 2, 'Timpoko': 2, 'She': 2, 'Society': 2, 'Boigny': 2, 'international': 2, 'successful': 2, 'seminar': 2, 'towards': 2, 'publishers': 2, 'organised': 2, 'support': 2, '2016': 2, 'archive': 2, 'our': 2, 'Certified': 2, 'grocer': 2, 'United': 2, '03': 2, 'Oxford': 2, '0': 2, 'He': 1, 'narrowly': 1, 'defeating': 1, 'George': 1, 'Winunduj': 1, 'candidate': 1, '126': 1, 'votes': 1, 'served': 1, 'abolition': 1, 'At': 1, 'advent': 1, 'self': 1, 'governance': 1, 'then': 1, 'Liberal': 1, 'division': 1, 'when': 1, 'soundly': 1, 'defeated': 1, 'future': 1, 'Labor': 1, 'leader': 1, 'politician': 1, 'authorlink': 1, 'Election': 1, 'Broadcasting': 1, 'Corporation': 1, 'abc': 1, 'net': 1, 'elections': 1, 'guide': 1, 'arnh': 1, 'htm': 1, '2010': 1, 'jaensch': 1, 'last1': 1, 'Jaensch': 1, 'first1': 1, 'Dean': 1, '1947': 1, '1990': 1, 'three': 1, 'article110859745': 1, 'LABOR': 1, 'HAS': 1, 'THREE': 1, 'SEATS': 1, 'Liberals': 1, 'back': 1, '15': 1, 'August': 1, '122767931': 1, 'Missionary': 1, 'background': 1, 'article136955103': 1, 'beaten': 1, 'poll': 1, '13': 1, 'Former': 1, 'rival': 1, 'blasts': 1, 'sex': 1, 'claims': 1, '6': 1, 'July': 1, 'arch': 1, 'communist': 1, 'propaganda': 1, 'helping': 1, 'undermine': 1, 'spiritual': 1, 'moral': 1, 'life': 1, 'there': 1, 'not': 1, 'one': 1, 'or': 1, 'part': 1, 'suitable': 1, 'sit': 1, 'only': 1, 'vote': 1, 'against': 1, 'legalising': 1, 'nude': 1, 'bathing': 1, 'declaring': 1, 'nudity': 1, 'led': 1, 'fall': 1, 'Roman': 1, 'Empire': 1, 'Although': 1, 'history': 1, 'controversial': 1, 'statements': 1, 'wife': 1, 'Maluda': 1, 'Torres': 1, 'Strait': 1, 'Islander': 1, 'woman': 1, 'Les': 1, 'McFarlane': 1, 'upon': 1, 'death': 1, 'amused': 1, 'him': 1, 'be': 1, 'called': 1, 'look': 1, 'me': 1, 'would': 1, 'say': 1, 'yet': 1, 'happily': 1, 'married': 1, 'His': 1, 'CLP': 1, 'colleague': 1, 'Hyacinth': 1, 'Tungutalum': 1, 'Indigenous': 1, 'later': 1, 'Aborigines': 1, 'particular': 1, 'should': 1, 'honour': 1, 'Rupert': 1, 'did': 1, 'lot': 1, '123762168': 1, 'Doom': 1, 'warning': 1, 's': 1, 'bare': 1, 'issue': 1, 'slated': 1, 'organ': 1, 'communism': 1, '9': 1, 'article237866690': 1, 'BLACK': 1, 'HISTORY': 1, 'Tribune': 1, 'New': 1, 'South': 1, 'Wales': 1, '26': 1, 'May': 1, 'pr': 1, '__data': 1, 'assets': 1, 'pdf_file': 1, '0009': 1, '367038': 1, 'PR09': 1, 'Debates': 1, '27': 1, 'February': 1, 'Parliamentary': 1, 'Record': 1, 'Session': 1, 'Landmark': 1, 'day': 1, 'politics': 1, '19': 1, 'needed': 1, 'ashtonc': 1, 'ca': 1, 'debate': 1, 'mdr': 1, 'Monash_Debating_Review': 1, 'V12': 1, 'journal': 1, 'Monash': 1, 'Review': 1, 'volume': 1, 'pages': 1, 'Discontent': 1, 'among': 1, 'judges': 1, 'been': 1, 'offered': 1, 'payment': 1, 'return': 1, 'participation': 1, 'resulted': 1, 'jeopardizing': 1, '7th': 1, 'round': 1, 'tournament': 1, 'There': 1, 'were': 1, 'also': 1, 'complaints': 1, 'Pakistani': 1, 'participants': 1, 'detention': 1, 'Indian': 1, 'immigration': 1, 'authorities': 1, 'trinitynews': 1, 'ie': 1, '01': 1, 'scandal': 1, 'world': 1, 'university': 1, 'debating': 1, 'competition': 1, 'Scandal': 1, 'World': 1, 'Competition': 1, 'Jan': 1, 'Trinity': 1, 'Apr': 1, 'Helène': 1, 'Kienon': 1, 'Kabore': 1, 'archaeologist': 1, 'professor': 1, 'Research': 1, 'Human': 1, 'Science': 1, 'Unit': 1, 'Université': 1, 'Félix': 1, 'Houphouët': 1, 'Felix': 1, 'Houphouet': 1, 'Cocody': 1, 'Abidjan': 1, 'Ivory': 1, 'Coast': 1, 'historyoftechnology': 1, 'scholars': 1, 'program': 1, 'scholar': 1, 'timpoko': 1, 'helene': 1, 'kienon': 1, 'kabore': 1, 'International': 1, 'Scholar': 1, 'Hélène': 1, 'Kiénon': 1, 'Kaboré': 1, '08': 1, '14': 1, 'Technology': 1, 'SHOT': 1, 'language': 1, 'en': 1, '11': 1, '16': 1, 'advisor': 1, 'archaeological': 1, 'heritage': 1, 'Ministry': 1, 'Culture': 1, 'Francophonie': 1, 'content': 1, 'c': 1, 'C3': 1, 'B4te': 1, 'E2': 1, '80': 1, '99ivoire': 1, 'burida': 1, 'BURIDA': 1, 'with': 1, 'IFRRO': 1, 'veraliah': 1, '06': 1, '04': 1, 'Inc': 1, 'American': 1, 'multinational': 1, 'supermarket': 1, 'store': 1, 'headquartered': 1, 'Austin': 1, 'Texas': 1, 'which': 1, 'exclusively': 1, 'sells': 1, 'free': 1, 'hydrogenated': 1, 'fats': 1, 'artificial': 1, 'colors': 1, 'flavors': 1, 'preservatives': 1, 'quality': 1, 'standards': 1, 'ingredient': 1, 'Food': 1, 'Ingredient': 1, 'Quality': 1, 'Standards': 1, '2012': 1, 'USDA': 1, 'States': 1, 'popularly': 1, 'known': 1, 'selections': 1, 'Grocer': 1, 'April': 1, '7': 1, 'has': 1, '500': 1, 'stores': 1, 'North': 1, 'America': 1, 'seven': 1, 'Kingdom': 1, 'As': 1, '4': 1, 'df': 1, 'US': 1, 'lc': 1, 'since': 1, 'WholeFoodsCompanyInfo': 1, 'company': 1, 'info': 1, 'Company': 1, 'Info': 1, 'WholeFoods': 1, '22': 1, '2018': 1, 'locations': 1, 'usnews': 1, 'top': 1, 'articles': 1, 'some': 1, 'whole': 1, 'foods': 1, 'workers': 1, 'call': 1, 'sick': 1, 'out': 1, 'Independent': 1, 'Worker': 1, 'Group': 1, 'Calls': 1, 'Jackson': 1, 'P': 1, 'France': 1, 'Nazi': 1, 'Menace': 1, 'Intelligence': 1, 'Policy': 1, 'Making': 1, '1933': 1, '1939': 1, '2000': 1, 'Press': 1, 'isbn': 1, '19820': 1, '834': 1, 'harv': 1})\n"
     ]
    },
    {
     "data": {
      "text/plain": [
       "'Needs filtering still'"
      ]
     },
     "execution_count": 166,
     "metadata": {},
     "output_type": "execute_result"
    }
   ],
   "source": [
    "from collections import Counter\n",
    "dictionary = Counter(all_words)\n",
    "print(dictionary)\n",
    "'''Needs filtering still, will remove numbers, stopwords'''"
   ]
  },
  {
   "cell_type": "code",
   "execution_count": 167,
   "metadata": {},
   "outputs": [
    {
     "name": "stderr",
     "output_type": "stream",
     "text": [
      "[nltk_data] Downloading package stopwords to\n",
      "[nltk_data]     C:\\Users\\u0115374\\AppData\\Roaming\\nltk_data...\n",
      "[nltk_data]   Package stopwords is already up-to-date!\n"
     ]
    }
   ],
   "source": [
    "from nltk.corpus import stopwords\n",
    "nltk.download('stopwords')\n",
    "filtered_list = [word for word in all_words if word not in stopwords.words('english')]"
   ]
  },
  {
   "cell_type": "code",
   "execution_count": 163,
   "metadata": {},
   "outputs": [
    {
     "data": {
      "text/plain": [
       "['i',\n",
       " 'me',\n",
       " 'my',\n",
       " 'myself',\n",
       " 'we',\n",
       " 'our',\n",
       " 'ours',\n",
       " 'ourselves',\n",
       " 'you',\n",
       " \"you're\",\n",
       " \"you've\",\n",
       " \"you'll\",\n",
       " \"you'd\",\n",
       " 'your',\n",
       " 'yours',\n",
       " 'yourself',\n",
       " 'yourselves',\n",
       " 'he',\n",
       " 'him',\n",
       " 'his',\n",
       " 'himself',\n",
       " 'she',\n",
       " \"she's\",\n",
       " 'her',\n",
       " 'hers',\n",
       " 'herself',\n",
       " 'it',\n",
       " \"it's\",\n",
       " 'its',\n",
       " 'itself',\n",
       " 'they',\n",
       " 'them',\n",
       " 'their',\n",
       " 'theirs',\n",
       " 'themselves',\n",
       " 'what',\n",
       " 'which',\n",
       " 'who',\n",
       " 'whom',\n",
       " 'this',\n",
       " 'that',\n",
       " \"that'll\",\n",
       " 'these',\n",
       " 'those',\n",
       " 'am',\n",
       " 'is',\n",
       " 'are',\n",
       " 'was',\n",
       " 'were',\n",
       " 'be',\n",
       " 'been',\n",
       " 'being',\n",
       " 'have',\n",
       " 'has',\n",
       " 'had',\n",
       " 'having',\n",
       " 'do',\n",
       " 'does',\n",
       " 'did',\n",
       " 'doing',\n",
       " 'a',\n",
       " 'an',\n",
       " 'the',\n",
       " 'and',\n",
       " 'but',\n",
       " 'if',\n",
       " 'or',\n",
       " 'because',\n",
       " 'as',\n",
       " 'until',\n",
       " 'while',\n",
       " 'of',\n",
       " 'at',\n",
       " 'by',\n",
       " 'for',\n",
       " 'with',\n",
       " 'about',\n",
       " 'against',\n",
       " 'between',\n",
       " 'into',\n",
       " 'through',\n",
       " 'during',\n",
       " 'before',\n",
       " 'after',\n",
       " 'above',\n",
       " 'below',\n",
       " 'to',\n",
       " 'from',\n",
       " 'up',\n",
       " 'down',\n",
       " 'in',\n",
       " 'out',\n",
       " 'on',\n",
       " 'off',\n",
       " 'over',\n",
       " 'under',\n",
       " 'again',\n",
       " 'further',\n",
       " 'then',\n",
       " 'once',\n",
       " 'here',\n",
       " 'there',\n",
       " 'when',\n",
       " 'where',\n",
       " 'why',\n",
       " 'how',\n",
       " 'all',\n",
       " 'any',\n",
       " 'both',\n",
       " 'each',\n",
       " 'few',\n",
       " 'more',\n",
       " 'most',\n",
       " 'other',\n",
       " 'some',\n",
       " 'such',\n",
       " 'no',\n",
       " 'nor',\n",
       " 'not',\n",
       " 'only',\n",
       " 'own',\n",
       " 'same',\n",
       " 'so',\n",
       " 'than',\n",
       " 'too',\n",
       " 'very',\n",
       " 's',\n",
       " 't',\n",
       " 'can',\n",
       " 'will',\n",
       " 'just',\n",
       " 'don',\n",
       " \"don't\",\n",
       " 'should',\n",
       " \"should've\",\n",
       " 'now',\n",
       " 'd',\n",
       " 'll',\n",
       " 'm',\n",
       " 'o',\n",
       " 're',\n",
       " 've',\n",
       " 'y',\n",
       " 'ain',\n",
       " 'aren',\n",
       " \"aren't\",\n",
       " 'couldn',\n",
       " \"couldn't\",\n",
       " 'didn',\n",
       " \"didn't\",\n",
       " 'doesn',\n",
       " \"doesn't\",\n",
       " 'hadn',\n",
       " \"hadn't\",\n",
       " 'hasn',\n",
       " \"hasn't\",\n",
       " 'haven',\n",
       " \"haven't\",\n",
       " 'isn',\n",
       " \"isn't\",\n",
       " 'ma',\n",
       " 'mightn',\n",
       " \"mightn't\",\n",
       " 'mustn',\n",
       " \"mustn't\",\n",
       " 'needn',\n",
       " \"needn't\",\n",
       " 'shan',\n",
       " \"shan't\",\n",
       " 'shouldn',\n",
       " \"shouldn't\",\n",
       " 'wasn',\n",
       " \"wasn't\",\n",
       " 'weren',\n",
       " \"weren't\",\n",
       " 'won',\n",
       " \"won't\",\n",
       " 'wouldn',\n",
       " \"wouldn't\"]"
      ]
     },
     "execution_count": 163,
     "metadata": {},
     "output_type": "execute_result"
    }
   ],
   "source": [
    "stopwords.words('english')"
   ]
  },
  {
   "cell_type": "code",
   "execution_count": 169,
   "metadata": {},
   "outputs": [
    {
     "name": "stdout",
     "output_type": "stream",
     "text": [
      "Counter({'ref': 38, 'date': 22, 'title': 19, 'url': 18, 'cite': 14, 'news': 14, 'Territory': 12, 'www': 10, '2019': 10, 'Northern': 9, 'https': 9, 'web': 8, 'Australian': 7, 'work': 7, 'access': 7, 'com': 7, 'first': 6, 'http': 6, 'nla': 6, '28': 6, 'December': 6, 'Whole': 6, 'Foods': 6, 'Australia': 5, 'Legislative': 5, 'Council': 5, 'au': 5, 'accessdate': 5, 'name': 5, 'location': 5, 'News': 5, 'Cite': 5, 'website': 5, 'Party': 4, 'Country': 4, 'last': 4, '2005': 4, 'publisher': 4, 'The': 4, 'University': 4, 'gov': 4, 'via': 4, 'Aborigine': 4, '1974': 3, 'Arnhem': 3, 'Collins': 3, '31': 3, 'October': 3, 'newspaper': 3, 'page': 3, '1': 3, 'Trove': 3, '8': 3, '12': 3, 'strike': 3, 'threats': 3, '2020': 3, 'Côte': 3, 'Ivoire': 3, 'org': 3, 'ifrro': 3, 'Market': 3, 'chain': 3, 'products': 3, 'wholefoodsmarket': 3, 'food': 3, 'Organic': 3, 'organic': 3, 'elected': 2, 'National': 2, 'member': 2, '1968': 2, 'indigenous': 2, 'Kentish': 2, 'Electoral': 2, 'Assembly': 2, '1977': 2, 'Bob': 2, 'Antony': 2, 'Green': 2, 'year': 2, 'nt': 2, 'book': 2, 'An': 2, 'History': 2, 'Darwin': 2, 'Canberra': 2, 'Times': 2, 'Capital': 2, 'newspapers': 2, 'image': 2, 'Sydney': 2, 'Morning': 2, 'Herald': 2, '3': 2, '1970': 2, 'NT': 2, 'November': 2, '10': 2, '2004': 2, 'conservative': 2, 'claimed': 2, '1971': 2, '1973': 2, 'MP': 2, 'people': 2, 'said': 2, 'parliament': 2, 'racist': 2, 'us': 2, 'January': 2, 'A': 2, '1979': 2, 'March': 2, 'pdf': 2, 'Second': 2, 'Parliament': 2, 'Debating': 2, '2014': 2, 'status': 2, 'live': 2, 'Timpoko': 2, 'She': 2, 'Society': 2, 'Boigny': 2, 'international': 2, 'successful': 2, 'seminar': 2, 'towards': 2, 'publishers': 2, 'organised': 2, 'support': 2, '2016': 2, 'archive': 2, 'Certified': 2, 'grocer': 2, 'United': 2, '03': 2, 'Oxford': 2, '0': 2, 'He': 1, 'narrowly': 1, 'defeating': 1, 'George': 1, 'Winunduj': 1, 'candidate': 1, '126': 1, 'votes': 1, 'served': 1, 'abolition': 1, 'At': 1, 'advent': 1, 'self': 1, 'governance': 1, 'Liberal': 1, 'division': 1, 'soundly': 1, 'defeated': 1, 'future': 1, 'Labor': 1, 'leader': 1, 'politician': 1, 'authorlink': 1, 'Election': 1, 'Broadcasting': 1, 'Corporation': 1, 'abc': 1, 'net': 1, 'elections': 1, 'guide': 1, 'arnh': 1, 'htm': 1, '2010': 1, 'jaensch': 1, 'last1': 1, 'Jaensch': 1, 'first1': 1, 'Dean': 1, '1947': 1, '1990': 1, 'three': 1, 'article110859745': 1, 'LABOR': 1, 'HAS': 1, 'THREE': 1, 'SEATS': 1, 'Liberals': 1, 'back': 1, '15': 1, 'August': 1, '122767931': 1, 'Missionary': 1, 'background': 1, 'article136955103': 1, 'beaten': 1, 'poll': 1, '13': 1, 'Former': 1, 'rival': 1, 'blasts': 1, 'sex': 1, 'claims': 1, '6': 1, 'July': 1, 'arch': 1, 'communist': 1, 'propaganda': 1, 'helping': 1, 'undermine': 1, 'spiritual': 1, 'moral': 1, 'life': 1, 'one': 1, 'part': 1, 'suitable': 1, 'sit': 1, 'vote': 1, 'legalising': 1, 'nude': 1, 'bathing': 1, 'declaring': 1, 'nudity': 1, 'led': 1, 'fall': 1, 'Roman': 1, 'Empire': 1, 'Although': 1, 'history': 1, 'controversial': 1, 'statements': 1, 'wife': 1, 'Maluda': 1, 'Torres': 1, 'Strait': 1, 'Islander': 1, 'woman': 1, 'Les': 1, 'McFarlane': 1, 'upon': 1, 'death': 1, 'amused': 1, 'called': 1, 'look': 1, 'would': 1, 'say': 1, 'yet': 1, 'happily': 1, 'married': 1, 'His': 1, 'CLP': 1, 'colleague': 1, 'Hyacinth': 1, 'Tungutalum': 1, 'Indigenous': 1, 'later': 1, 'Aborigines': 1, 'particular': 1, 'honour': 1, 'Rupert': 1, 'lot': 1, '123762168': 1, 'Doom': 1, 'warning': 1, 'bare': 1, 'issue': 1, 'slated': 1, 'organ': 1, 'communism': 1, '9': 1, 'article237866690': 1, 'BLACK': 1, 'HISTORY': 1, 'Tribune': 1, 'New': 1, 'South': 1, 'Wales': 1, '26': 1, 'May': 1, 'pr': 1, '__data': 1, 'assets': 1, 'pdf_file': 1, '0009': 1, '367038': 1, 'PR09': 1, 'Debates': 1, '27': 1, 'February': 1, 'Parliamentary': 1, 'Record': 1, 'Session': 1, 'Landmark': 1, 'day': 1, 'politics': 1, '19': 1, 'needed': 1, 'ashtonc': 1, 'ca': 1, 'debate': 1, 'mdr': 1, 'Monash_Debating_Review': 1, 'V12': 1, 'journal': 1, 'Monash': 1, 'Review': 1, 'volume': 1, 'pages': 1, 'Discontent': 1, 'among': 1, 'judges': 1, 'offered': 1, 'payment': 1, 'return': 1, 'participation': 1, 'resulted': 1, 'jeopardizing': 1, '7th': 1, 'round': 1, 'tournament': 1, 'There': 1, 'also': 1, 'complaints': 1, 'Pakistani': 1, 'participants': 1, 'detention': 1, 'Indian': 1, 'immigration': 1, 'authorities': 1, 'trinitynews': 1, 'ie': 1, '01': 1, 'scandal': 1, 'world': 1, 'university': 1, 'debating': 1, 'competition': 1, 'Scandal': 1, 'World': 1, 'Competition': 1, 'Jan': 1, 'Trinity': 1, 'Apr': 1, 'Helène': 1, 'Kienon': 1, 'Kabore': 1, 'archaeologist': 1, 'professor': 1, 'Research': 1, 'Human': 1, 'Science': 1, 'Unit': 1, 'Université': 1, 'Félix': 1, 'Houphouët': 1, 'Felix': 1, 'Houphouet': 1, 'Cocody': 1, 'Abidjan': 1, 'Ivory': 1, 'Coast': 1, 'historyoftechnology': 1, 'scholars': 1, 'program': 1, 'scholar': 1, 'timpoko': 1, 'helene': 1, 'kienon': 1, 'kabore': 1, 'International': 1, 'Scholar': 1, 'Hélène': 1, 'Kiénon': 1, 'Kaboré': 1, '08': 1, '14': 1, 'Technology': 1, 'SHOT': 1, 'language': 1, 'en': 1, '11': 1, '16': 1, 'advisor': 1, 'archaeological': 1, 'heritage': 1, 'Ministry': 1, 'Culture': 1, 'Francophonie': 1, 'content': 1, 'c': 1, 'C3': 1, 'B4te': 1, 'E2': 1, '80': 1, '99ivoire': 1, 'burida': 1, 'BURIDA': 1, 'IFRRO': 1, 'veraliah': 1, '06': 1, '04': 1, 'Inc': 1, 'American': 1, 'multinational': 1, 'supermarket': 1, 'store': 1, 'headquartered': 1, 'Austin': 1, 'Texas': 1, 'exclusively': 1, 'sells': 1, 'free': 1, 'hydrogenated': 1, 'fats': 1, 'artificial': 1, 'colors': 1, 'flavors': 1, 'preservatives': 1, 'quality': 1, 'standards': 1, 'ingredient': 1, 'Food': 1, 'Ingredient': 1, 'Quality': 1, 'Standards': 1, '2012': 1, 'USDA': 1, 'States': 1, 'popularly': 1, 'known': 1, 'selections': 1, 'Grocer': 1, 'April': 1, '7': 1, '500': 1, 'stores': 1, 'North': 1, 'America': 1, 'seven': 1, 'Kingdom': 1, 'As': 1, '4': 1, 'df': 1, 'US': 1, 'lc': 1, 'since': 1, 'WholeFoodsCompanyInfo': 1, 'company': 1, 'info': 1, 'Company': 1, 'Info': 1, 'WholeFoods': 1, '22': 1, '2018': 1, 'locations': 1, 'usnews': 1, 'top': 1, 'articles': 1, 'whole': 1, 'foods': 1, 'workers': 1, 'call': 1, 'sick': 1, 'Independent': 1, 'Worker': 1, 'Group': 1, 'Calls': 1, 'Jackson': 1, 'P': 1, 'France': 1, 'Nazi': 1, 'Menace': 1, 'Intelligence': 1, 'Policy': 1, 'Making': 1, '1933': 1, '1939': 1, '2000': 1, 'Press': 1, 'isbn': 1, '19820': 1, '834': 1, 'harv': 1})\n"
     ]
    }
   ],
   "source": [
    "print(Counter(filtered_list))"
   ]
  },
  {
   "cell_type": "code",
   "execution_count": 186,
   "metadata": {},
   "outputs": [
    {
     "name": "stderr",
     "output_type": "stream",
     "text": [
      "[nltk_data] Downloading package wordnet to\n",
      "[nltk_data]     C:\\Users\\u0115374\\AppData\\Roaming\\nltk_data...\n",
      "[nltk_data]   Package wordnet is already up-to-date!\n"
     ]
    }
   ],
   "source": [
    "\"\"\"Lemmatize words to get relevant stem and context\"\"\"\n",
    "nltk.download('wordnet')\n",
    "from nltk.stem import WordNetLemmatizer\n",
    "lemmatizer = WordNetLemmatizer()\n",
    "lemmatized_text = ' '.join([lemmatizer.lemmatize(word) for word in filtered_list])"
   ]
  },
  {
   "cell_type": "code",
   "execution_count": 187,
   "metadata": {},
   "outputs": [
    {
     "name": "stdout",
     "output_type": "stream",
     "text": [
      "Counter({'ref': 38, 'date': 22, 'title': 19, 'url': 18, 'http': 15, 'cite': 14, 'news': 14, 'Territory': 12, 'www': 10, '2019': 10, 'Northern': 9, 'web': 8, 'Australian': 7, 'work': 7, 'access': 7, 'com': 7, 'first': 6, 'publisher': 6, 'location': 6, 'nla': 6, '28': 6, 'December': 6, 'Whole': 6, 'Foods': 6, 'Australia': 5, 'Legislative': 5, 'Council': 5, 'au': 5, 'accessdate': 5, 'name': 5, 'newspaper': 5, 'News': 5, 'Cite': 5, 'website': 5, 'Party': 4, 'Country': 4, 'last': 4, '2005': 4, 'The': 4, 'University': 4, 'gov': 4, 'page': 4, 'via': 4, 'Aborigine': 4, 'food': 4, '1974': 3, 'Arnhem': 3, 'Collins': 3, '31': 3, 'October': 3, '1': 3, 'Trove': 3, '8': 3, '12': 3, 'strike': 3, 'threat': 3, '2020': 3, 'Côte': 3, 'Ivoire': 3, 'org': 3, 'ifrro': 3, 'Market': 3, 'chain': 3, 'product': 3, 'wholefoodsmarket': 3, 'Organic': 3, 'organic': 3, 'elected': 2, 'National': 2, 'member': 2, '1968': 2, 'indigenous': 2, 'vote': 2, 'Kentish': 2, 'Electoral': 2, 'Assembly': 2, '1977': 2, 'Bob': 2, 'Antony': 2, 'Green': 2, 'year': 2, 'nt': 2, 'book': 2, 'An': 2, 'History': 2, 'Darwin': 2, 'Canberra': 2, 'Times': 2, 'Capital': 2, 'image': 2, 'Sydney': 2, 'Morning': 2, 'Herald': 2, '3': 2, '1970': 2, 'NT': 2, 'November': 2, '10': 2, '2004': 2, 'conservative': 2, 'claimed': 2, '1971': 2, '1973': 2, 'MP': 2, 'people': 2, 'said': 2, 'parliament': 2, 'racist': 2, 'u': 2, 'January': 2, 'A': 2, '1979': 2, 'March': 2, 'pdf': 2, 'Second': 2, 'Parliament': 2, 'Debating': 2, '2014': 2, 'status': 2, 'live': 2, 'Timpoko': 2, 'She': 2, 'Society': 2, 'Boigny': 2, 'international': 2, 'scholar': 2, 'successful': 2, 'seminar': 2, 'towards': 2, 'organised': 2, 'support': 2, '2016': 2, 'archive': 2, 'store': 2, 'Certified': 2, 'grocer': 2, 'United': 2, '03': 2, 'Oxford': 2, '0': 2, 'He': 1, 'narrowly': 1, 'defeating': 1, 'George': 1, 'Winunduj': 1, 'candidate': 1, '126': 1, 'served': 1, 'abolition': 1, 'At': 1, 'advent': 1, 'self': 1, 'governance': 1, 'Liberal': 1, 'division': 1, 'soundly': 1, 'defeated': 1, 'future': 1, 'Labor': 1, 'leader': 1, 'politician': 1, 'authorlink': 1, 'Election': 1, 'Broadcasting': 1, 'Corporation': 1, 'abc': 1, 'net': 1, 'election': 1, 'guide': 1, 'arnh': 1, 'htm': 1, '2010': 1, 'jaensch': 1, 'last1': 1, 'Jaensch': 1, 'first1': 1, 'Dean': 1, '1947': 1, '1990': 1, 'three': 1, 'article110859745': 1, 'LABOR': 1, 'HAS': 1, 'THREE': 1, 'SEATS': 1, 'Liberals': 1, 'back': 1, '15': 1, 'August': 1, '122767931': 1, 'Missionary': 1, 'background': 1, 'article136955103': 1, 'beaten': 1, 'poll': 1, '13': 1, 'Former': 1, 'rival': 1, 'blast': 1, 'sex': 1, 'claim': 1, '6': 1, 'July': 1, 'arch': 1, 'communist': 1, 'propaganda': 1, 'helping': 1, 'undermine': 1, 'spiritual': 1, 'moral': 1, 'life': 1, 'one': 1, 'part': 1, 'suitable': 1, 'sit': 1, 'legalising': 1, 'nude': 1, 'bathing': 1, 'declaring': 1, 'nudity': 1, 'led': 1, 'fall': 1, 'Roman': 1, 'Empire': 1, 'Although': 1, 'history': 1, 'controversial': 1, 'statement': 1, 'wife': 1, 'Maluda': 1, 'Torres': 1, 'Strait': 1, 'Islander': 1, 'woman': 1, 'Les': 1, 'McFarlane': 1, 'upon': 1, 'death': 1, 'amused': 1, 'called': 1, 'look': 1, 'would': 1, 'say': 1, 'yet': 1, 'happily': 1, 'married': 1, 'His': 1, 'CLP': 1, 'colleague': 1, 'Hyacinth': 1, 'Tungutalum': 1, 'Indigenous': 1, 'later': 1, 'Aborigines': 1, 'particular': 1, 'honour': 1, 'Rupert': 1, 'lot': 1, '123762168': 1, 'Doom': 1, 'warning': 1, 'bare': 1, 'issue': 1, 'slated': 1, 'organ': 1, 'communism': 1, '9': 1, 'article237866690': 1, 'BLACK': 1, 'HISTORY': 1, 'Tribune': 1, 'New': 1, 'South': 1, 'Wales': 1, '26': 1, 'May': 1, 'pr': 1, '__data': 1, 'asset': 1, 'pdf_file': 1, '0009': 1, '367038': 1, 'PR09': 1, 'Debates': 1, '27': 1, 'February': 1, 'Parliamentary': 1, 'Record': 1, 'Session': 1, 'Landmark': 1, 'day': 1, 'politics': 1, '19': 1, 'needed': 1, 'ashtonc': 1, 'ca': 1, 'debate': 1, 'mdr': 1, 'Monash_Debating_Review': 1, 'V12': 1, 'journal': 1, 'Monash': 1, 'Review': 1, 'volume': 1, 'Discontent': 1, 'among': 1, 'judge': 1, 'offered': 1, 'payment': 1, 'return': 1, 'participation': 1, 'resulted': 1, 'jeopardizing': 1, '7th': 1, 'round': 1, 'tournament': 1, 'There': 1, 'also': 1, 'complaint': 1, 'Pakistani': 1, 'participant': 1, 'detention': 1, 'Indian': 1, 'immigration': 1, 'authority': 1, 'trinitynews': 1, 'ie': 1, '01': 1, 'scandal': 1, 'world': 1, 'university': 1, 'debating': 1, 'competition': 1, 'Scandal': 1, 'World': 1, 'Competition': 1, 'Jan': 1, 'Trinity': 1, 'Apr': 1, 'Helène': 1, 'Kienon': 1, 'Kabore': 1, 'archaeologist': 1, 'professor': 1, 'Research': 1, 'Human': 1, 'Science': 1, 'Unit': 1, 'Université': 1, 'Félix': 1, 'Houphouët': 1, 'Felix': 1, 'Houphouet': 1, 'Cocody': 1, 'Abidjan': 1, 'Ivory': 1, 'Coast': 1, 'historyoftechnology': 1, 'program': 1, 'timpoko': 1, 'helene': 1, 'kienon': 1, 'kabore': 1, 'International': 1, 'Scholar': 1, 'Hélène': 1, 'Kiénon': 1, 'Kaboré': 1, '08': 1, '14': 1, 'Technology': 1, 'SHOT': 1, 'language': 1, 'en': 1, '11': 1, '16': 1, 'advisor': 1, 'archaeological': 1, 'heritage': 1, 'Ministry': 1, 'Culture': 1, 'Francophonie': 1, 'content': 1, 'c': 1, 'C3': 1, 'B4te': 1, 'E2': 1, '80': 1, '99ivoire': 1, 'burida': 1, 'BURIDA': 1, 'IFRRO': 1, 'veraliah': 1, '06': 1, '04': 1, 'Inc': 1, 'American': 1, 'multinational': 1, 'supermarket': 1, 'headquartered': 1, 'Austin': 1, 'Texas': 1, 'exclusively': 1, 'sell': 1, 'free': 1, 'hydrogenated': 1, 'fat': 1, 'artificial': 1, 'color': 1, 'flavor': 1, 'preservative': 1, 'quality': 1, 'standard': 1, 'ingredient': 1, 'Food': 1, 'Ingredient': 1, 'Quality': 1, 'Standards': 1, '2012': 1, 'USDA': 1, 'States': 1, 'popularly': 1, 'known': 1, 'selection': 1, 'Grocer': 1, 'April': 1, '7': 1, '500': 1, 'North': 1, 'America': 1, 'seven': 1, 'Kingdom': 1, 'As': 1, '4': 1, 'df': 1, 'US': 1, 'lc': 1, 'since': 1, 'WholeFoodsCompanyInfo': 1, 'company': 1, 'info': 1, 'Company': 1, 'Info': 1, 'WholeFoods': 1, '22': 1, '2018': 1, 'usnews': 1, 'top': 1, 'article': 1, 'whole': 1, 'worker': 1, 'call': 1, 'sick': 1, 'Independent': 1, 'Worker': 1, 'Group': 1, 'Calls': 1, 'Jackson': 1, 'P': 1, 'France': 1, 'Nazi': 1, 'Menace': 1, 'Intelligence': 1, 'Policy': 1, 'Making': 1, '1933': 1, '1939': 1, '2000': 1, 'Press': 1, 'isbn': 1, '19820': 1, '834': 1, 'harv': 1})\n"
     ]
    },
    {
     "data": {
      "text/plain": [
       "'List should be further developed, but for now suffices to get to feature extraction'"
      ]
     },
     "execution_count": 187,
     "metadata": {},
     "output_type": "execute_result"
    }
   ],
   "source": [
    "lemmatized_list = tokenizer.tokenize(lemmatized_text)\n",
    "print(Counter(lemmatized_list))\n",
    "\"\"\"List should be further developed, but for now suffices to get to feature extraction\"\"\""
   ]
  },
  {
   "cell_type": "code",
   "execution_count": 188,
   "metadata": {},
   "outputs": [
    {
     "name": "stdout",
     "output_type": "stream",
     "text": [
      "Counter({'': 98, 'ref': 38, 'date': 22, 'title': 19, 'url': 18, 'http': 15, 'cite': 14, 'news': 14, 'Territory': 12, 'www': 10, 'Northern': 9, 'web': 8, 'first': 7, 'Australian': 7, 'work': 7, 'access': 7, 'com': 7, 'publisher': 6, 'location': 6, 'nla': 6, 'December': 6, 'Whole': 6, 'Foods': 6, 'Australia': 5, 'Legislative': 5, 'Council': 5, 'last': 5, 'au': 5, 'accessdate': 5, 'name': 5, 'newspaper': 5, 'News': 5, 'Cite': 5, 'website': 5, 'Party': 4, 'Country': 4, 'The': 4, 'University': 4, 'gov': 4, 'article': 4, 'page': 4, 'via': 4, 'Aborigine': 4, 'food': 4, 'Arnhem': 3, 'Collins': 3, 'October': 3, 'Trove': 3, 'strike': 3, 'threat': 3, 'Côte': 3, 'Ivoire': 3, 'org': 3, 'ifrro': 3, 'Market': 3, 'chain': 3, 'product': 3, 'wholefoodsmarket': 3, 'Organic': 3, 'organic': 3, 'elected': 2, 'National': 2, 'member': 2, 'indigenous': 2, 'vote': 2, 'Kentish': 2, 'Electoral': 2, 'Assembly': 2, 'Bob': 2, 'Antony': 2, 'Green': 2, 'year': 2, 'nt': 2, 'book': 2, 'An': 2, 'History': 2, 'Darwin': 2, 'Canberra': 2, 'Times': 2, 'Capital': 2, 'image': 2, 'Sydney': 2, 'Morning': 2, 'Herald': 2, 'NT': 2, 'November': 2, 'conservative': 2, 'claimed': 2, 'MP': 2, 'people': 2, 'said': 2, 'parliament': 2, 'racist': 2, 'u': 2, 'January': 2, 'A': 2, 'March': 2, 'pdf': 2, 'Second': 2, 'Parliament': 2, 'Debating': 2, 'status': 2, 'live': 2, 'Timpoko': 2, 'She': 2, 'Society': 2, 'Boigny': 2, 'international': 2, 'scholar': 2, 'successful': 2, 'seminar': 2, 'towards': 2, 'organised': 2, 'support': 2, 'archive': 2, 'store': 2, 'Certified': 2, 'grocer': 2, 'United': 2, 'Oxford': 2, 'He': 1, 'narrowly': 1, 'defeating': 1, 'George': 1, 'Winunduj': 1, 'candidate': 1, 'served': 1, 'abolition': 1, 'At': 1, 'advent': 1, 'self': 1, 'governance': 1, 'Liberal': 1, 'division': 1, 'soundly': 1, 'defeated': 1, 'future': 1, 'Labor': 1, 'leader': 1, 'politician': 1, 'authorlink': 1, 'Election': 1, 'Broadcasting': 1, 'Corporation': 1, 'abc': 1, 'net': 1, 'election': 1, 'guide': 1, 'arnh': 1, 'htm': 1, 'jaensch': 1, 'Jaensch': 1, 'Dean': 1, 'three': 1, 'LABOR': 1, 'HAS': 1, 'THREE': 1, 'SEATS': 1, 'Liberals': 1, 'back': 1, 'August': 1, 'Missionary': 1, 'background': 1, 'beaten': 1, 'poll': 1, 'Former': 1, 'rival': 1, 'blast': 1, 'sex': 1, 'claim': 1, 'July': 1, 'arch': 1, 'communist': 1, 'propaganda': 1, 'helping': 1, 'undermine': 1, 'spiritual': 1, 'moral': 1, 'life': 1, 'one': 1, 'part': 1, 'suitable': 1, 'sit': 1, 'legalising': 1, 'nude': 1, 'bathing': 1, 'declaring': 1, 'nudity': 1, 'led': 1, 'fall': 1, 'Roman': 1, 'Empire': 1, 'Although': 1, 'history': 1, 'controversial': 1, 'statement': 1, 'wife': 1, 'Maluda': 1, 'Torres': 1, 'Strait': 1, 'Islander': 1, 'woman': 1, 'Les': 1, 'McFarlane': 1, 'upon': 1, 'death': 1, 'amused': 1, 'called': 1, 'look': 1, 'would': 1, 'say': 1, 'yet': 1, 'happily': 1, 'married': 1, 'His': 1, 'CLP': 1, 'colleague': 1, 'Hyacinth': 1, 'Tungutalum': 1, 'Indigenous': 1, 'later': 1, 'Aborigines': 1, 'particular': 1, 'honour': 1, 'Rupert': 1, 'lot': 1, 'Doom': 1, 'warning': 1, 'bare': 1, 'issue': 1, 'slated': 1, 'organ': 1, 'communism': 1, 'BLACK': 1, 'HISTORY': 1, 'Tribune': 1, 'New': 1, 'South': 1, 'Wales': 1, 'May': 1, 'pr': 1, '__data': 1, 'asset': 1, 'pdf_file': 1, 'PR': 1, 'Debates': 1, 'February': 1, 'Parliamentary': 1, 'Record': 1, 'Session': 1, 'Landmark': 1, 'day': 1, 'politics': 1, 'needed': 1, 'ashtonc': 1, 'ca': 1, 'debate': 1, 'mdr': 1, 'Monash_Debating_Review': 1, 'V': 1, 'journal': 1, 'Monash': 1, 'Review': 1, 'volume': 1, 'Discontent': 1, 'among': 1, 'judge': 1, 'offered': 1, 'payment': 1, 'return': 1, 'participation': 1, 'resulted': 1, 'jeopardizing': 1, 'th': 1, 'round': 1, 'tournament': 1, 'There': 1, 'also': 1, 'complaint': 1, 'Pakistani': 1, 'participant': 1, 'detention': 1, 'Indian': 1, 'immigration': 1, 'authority': 1, 'trinitynews': 1, 'ie': 1, 'scandal': 1, 'world': 1, 'university': 1, 'debating': 1, 'competition': 1, 'Scandal': 1, 'World': 1, 'Competition': 1, 'Jan': 1, 'Trinity': 1, 'Apr': 1, 'Helène': 1, 'Kienon': 1, 'Kabore': 1, 'archaeologist': 1, 'professor': 1, 'Research': 1, 'Human': 1, 'Science': 1, 'Unit': 1, 'Université': 1, 'Félix': 1, 'Houphouët': 1, 'Felix': 1, 'Houphouet': 1, 'Cocody': 1, 'Abidjan': 1, 'Ivory': 1, 'Coast': 1, 'historyoftechnology': 1, 'program': 1, 'timpoko': 1, 'helene': 1, 'kienon': 1, 'kabore': 1, 'International': 1, 'Scholar': 1, 'Hélène': 1, 'Kiénon': 1, 'Kaboré': 1, 'Technology': 1, 'SHOT': 1, 'language': 1, 'en': 1, 'advisor': 1, 'archaeological': 1, 'heritage': 1, 'Ministry': 1, 'Culture': 1, 'Francophonie': 1, 'content': 1, 'c': 1, 'C': 1, 'Bte': 1, 'E': 1, 'ivoire': 1, 'burida': 1, 'BURIDA': 1, 'IFRRO': 1, 'veraliah': 1, 'Inc': 1, 'American': 1, 'multinational': 1, 'supermarket': 1, 'headquartered': 1, 'Austin': 1, 'Texas': 1, 'exclusively': 1, 'sell': 1, 'free': 1, 'hydrogenated': 1, 'fat': 1, 'artificial': 1, 'color': 1, 'flavor': 1, 'preservative': 1, 'quality': 1, 'standard': 1, 'ingredient': 1, 'Food': 1, 'Ingredient': 1, 'Quality': 1, 'Standards': 1, 'USDA': 1, 'States': 1, 'popularly': 1, 'known': 1, 'selection': 1, 'Grocer': 1, 'April': 1, 'North': 1, 'America': 1, 'seven': 1, 'Kingdom': 1, 'As': 1, 'df': 1, 'US': 1, 'lc': 1, 'since': 1, 'WholeFoodsCompanyInfo': 1, 'company': 1, 'info': 1, 'Company': 1, 'Info': 1, 'WholeFoods': 1, 'usnews': 1, 'top': 1, 'whole': 1, 'worker': 1, 'call': 1, 'sick': 1, 'Independent': 1, 'Worker': 1, 'Group': 1, 'Calls': 1, 'Jackson': 1, 'P': 1, 'France': 1, 'Nazi': 1, 'Menace': 1, 'Intelligence': 1, 'Policy': 1, 'Making': 1, 'Press': 1, 'isbn': 1, 'harv': 1})\n"
     ]
    }
   ],
   "source": [
    "import re\n",
    "def remove(list): \n",
    "    pattern = '[0-9]'\n",
    "    list = [re.sub(pattern, '', i) for i in list] \n",
    "    return list\n",
    "\n",
    "print(Counter(remove(lemmatized_list)))"
   ]
  },
  {
   "cell_type": "code",
   "execution_count": null,
   "metadata": {},
   "outputs": [],
   "source": [
    "vocabulary = set(remove(lemmatized_list))\n",
    "\n",
    "def compute_tf():\n",
    "    return\n",
    "\n",
    "def compute_idf(all_documents):\n",
    "    N = len(all_documents)"
   ]
  },
  {
   "cell_type": "code",
   "execution_count": 204,
   "metadata": {},
   "outputs": [
    {
     "name": "stdout",
     "output_type": "stream",
     "text": [
      "['+++ ', '+He was narrowly elected as a [[National Party of Australia|Country Party]] member of the [[Northern Territory Legislative Council]] in 1968, defeating George Winunduj, the first indigenous candidate for the Council, by 126 votes. Kentish served on the Legislative Council until its abolition in 1974. At the advent of self-governance, he was then elected as the [[Country Liberal Party]] member for [[Electoral division of Arnhem|Arnhem]] in the [[Northern Territory Legislative Assembly]] from 1974 until 1977, when he was soundly defeated by future Labor leader [[Bob Collins (Australian politician)|Bob Collins]].<ref>{{cite web|first=Antony|last=Green|authorlink=Antony Green|title=Arnhem|work=2005 Northern Territory Election|publisher=[[Australian Broadcasting Corporation]]|year=2005|url=http://www.abc.net.au/elections/nt/2005/guide/arnh.htm|accessdate=31 October 2010}}</ref><ref name=\"jaensch\">{{cite book |last1=Jaensch |first1=Dean |title=The Legislative Council of the Northern Territory: An Electoral History 1947–1974 |date=1990 |publisher=Australian National University |location=Darwin}}</ref><ref name=three>{{cite news |url=http://nla.gov.au/nla.news-article110859745 |title=LABOR HAS THREE SEATS Country-Liberals back in Northern Territory |newspaper=[[The Canberra Times]] |location=Australian Capital Territory, Australia |date=15 August 1977 |access-date=28 December 2019 |page=1 |via=Trove }}</ref><ref>{{cite news | url=https://www.newspapers.com/image/122767931 | title=Missionary background | work=Sydney Morning Herald | date=3 October 1970 | accessdate=28 December 2019}}</ref><ref>{{cite news |url=http://nla.gov.au/nla.news-article136955103 |title=Aborigine beaten in NT poll |newspaper=[[The Canberra Times]] |location=Australian Capital Territory, Australia |date=13 November 1968 |access-date=28 December 2019 |page=10 |via=Trove }}</ref><ref>{{cite news | title=Former Collins rival blasts sex claims | work=The Australian | date=6 July 2004}}</ref>', '+An arch-conservative, he claimed in 1970 that the conservative \\'\\'[[Northern Territory News]]\\'\\' was \"communist propaganda\" that was \"helping to undermine the spiritual and moral life of Australia\", claimed in 1971 that there was \"not one Aborigine or part-Aborigine who is suitable to sit in the [Legislative] Council\", and in 1973 was the only Country Party MP to vote against legalising nude bathing, declaring that \"nudity had led to the fall of the Roman Empire\". Although he had a history of controversial statements about indigenous people, his wife, Maluda, was a [[Torres Strait Islander]] woman; [[Les McFarlane]] said in parliament upon his death that it \"amused him to be called racist...\\'look at me, he would say...a racist and yet happily married to an Aborigine\\'. His CLP colleague, [[Hyacinth Tungutalum]], the first Indigenous Australian MP in the Assembly, later said \"Aborigines in particular should honour Rupert Kentish ... he did a lot for us\".<ref>{{cite news | url=https://www.newspapers.com/image/123762168/ | title=Doom warning on Darwin\\'s bare issue | work=Sydney Morning Herald | date=8 November 1973 | accessdate=28 December 2019}}</ref><ref>{{cite news | title=NT News slated as an organ of communism | work=Northern Territory News | date=9 January 2005}}</ref><ref>{{cite news |url=http://nla.gov.au/nla.news-article237866690 |title=A BLACK HISTORY |newspaper=[[Tribune]] |location=New South Wales, Australia |date=26 May 1971 |access-date=28 December 2019 |page=8 |via=Trove }}</ref><ref name=pr>{{cite web | url=https://parliament.nt.gov.au/__data/assets/pdf_file/0009/367038/PR09-Debates-27-February-1979-8-March-1979.pdf | title=Parliamentary Record Second Parliament, Second Session | publisher=Parliament of the Northern Territory | accessdate=28 December 2019}}</ref><ref>{{cite news | title=Landmark day in Territory politics | work=Northern Territory News | date=19 October 2004}}</ref>']\n",
      "length of edit: 487\n",
      "doc count: 1\n",
      "['+++ ', '+people who needed it|url=https://ashtonc.ca/debate/mdr/Monash_Debating_Review-V12.pdf|journal=Monash Debating Review|volume=12|pages=|via=}}</ref> Discontent among judges who had been offered payment in return for participation resulted in strike threats, jeopardizing the 7th round of the tournament. There were also complaints from Pakistani participants of detention by Indian immigration authorities.<ref>{{Cite news|last=|first=|url=https://trinitynews.ie/2014/01/scandal-and-strike-threats-at-world-university-debating-competition/|title=Scandal and strike threats at World University Debating Competition|date=Jan 1, 2014|work=Trinity News|access-date=Apr 1, 2020|url-status=live}}</ref>']\n",
      "length of edit: 85\n",
      "doc count: 2\n",
      "['+++ ', \"+'''Timpoko Helène Kienon-Kabore''' is an [[archaeologist]]. She is a professor at the Research of Human Society and Science Unit at the [[Université Félix Houphouët-Boigny|University Felix Houphouet-Boigny]] of Cocody in [[Abidjan]], [[Ivory Coast|Côte d’Ivoire]].<ref>{{Cite web|url=https://www.historyoftechnology.org/about-us/international-scholars-program/international-scholar-timpoko-helene-kienon-kabore/|title=International Scholar: Timpoko Hélène Kiénon-Kaboré|date=2019-08-14|website=Society for the History of Technology (SHOT)|language=en|access-date=2019-11-16}}</ref> She is an advisor on archaeological heritage at the Ministry of Culture and Francophonie of Côte d'Ivoire.<ref>{{Cite web|url=http://www.ifrro.org/content/c%C3%B4te-d%E2%80%99ivoire-successful-seminar-towards-publishers-organised-burida-ifrro-support|title=Côte d'Ivoire: successful seminar towards publishers organised by BURIDA with IFRRO support|last=veraliah|first=|date=2016-06-10|website=www.ifrro.org|url-status=live|archive-url=|archive-date=|access-date=2019-12-04}}</ref>\"]\n",
      "length of edit: 135\n",
      "doc count: 3\n",
      "['+++ ', '+\\'\\'\\'Whole Foods Market Inc.\\'\\'\\' is an American multinational [[supermarket]] [[chain store|chain]] headquartered in [[Austin, Texas]], which exclusively sells products free from hydrogenated fats and artificial colors, flavors, and preservatives.<ref>{{Cite web|url=https://www.wholefoodsmarket.com/about-our-products/quality-standards/food-ingredient|title=Food Ingredient Quality Standards|date=March 12, 2012|website=Whole Foods Market}}</ref> A [[USDA]] [[Certified Organic]] grocer in the United States, the chain is popularly known for its [[Organic food|organic selections]].<ref>{{Cite web|url=https://www.wholefoodsmarket.com/about-our-products/organic-food/organic-grocer|title=Certified Organic Grocer|date=April 7, 2016|website=Whole Foods Market}}</ref> Whole Foods has 500 stores in North America and the seven in the United Kingdom {{As of|2019|3|4|df=US|lc=|since=}}.<ref name=\"WholeFoodsCompanyInfo\">{{cite web|url=http://www.wholefoodsmarket.com/company-info|title=Whole Foods Company Info|website=WholeFoods.com|accessdate=22 January 2018}}</ref><ref name=locations>{{cite web|url=https://www.usnews.com/news/top-news/articles/2020-03-31/some-whole-foods-workers-call-for-sick-out|title=Independent Worker Group Calls for Whole Foods|access-date=2020/31/03}}</ref>']\n",
      "length of edit: 167\n",
      "doc count: 4\n",
      "['+++ ', '+* {{cite book |last=Jackson |first=P. |title=France and the Nazi Menace: Intelligence and Policy Making, 1933–1939 |year=2000 |publisher=Oxford University Press |location=Oxford |isbn=0-19820-834-0 |ref=harv}}']\n",
      "length of edit: 30\n",
      "doc count: 5\n"
     ]
    }
   ],
   "source": [
    "doc_words= []\n",
    "DOC_COUNT = 0\n",
    "for entry in os.scandir(cwd + '\\Data\\\\test'):\n",
    "    DOC_COUNT +=1\n",
    "    with open(entry) as f:\n",
    "        doc_words= []\n",
    "        text = f.read()\n",
    "        data = json.loads(text)\n",
    "        diff = make_diff(data['text_old'], data['text_new'])\n",
    "        added = get_added_text(diff)\n",
    "        for i in added:\n",
    "            tokens = tokenizer.tokenize(i)#word_tokenize(i)\n",
    "            filtered_list = [word for word in tokens if word not in stopwords.words('english')]\n",
    "            lemmatizer = WordNetLemmatizer()\n",
    "            lemmatized_text = ' '.join([lemmatizer.lemmatize(word) for word in filtered_list])\n",
    "            lemmatized_list = tokenizer.tokenize(lemmatized_text)\n",
    "            doc_words += lemmatized_list\n",
    "        print(\"length of edit: \" + str(len(doc_words)))\n",
    "        print(\"doc count: \" + str(DOC_COUNT))"
   ]
  },
  {
   "cell_type": "markdown",
   "metadata": {},
   "source": []
  },
  {
   "cell_type": "code",
   "execution_count": 192,
   "metadata": {},
   "outputs": [
    {
     "name": "stdout",
     "output_type": "stream",
     "text": [
      "{'', 'color', 'Company', 'Cocody', 'volume', 'last', 'known', 'organ', 'Missionary', 'detention', 'df', 'pdf_file', 'elected', 'food', 'Scholar', 'cite', 'Rupert', 'Apr', 'Ingredient', 'sell', 'year', 'sex', 'Pakistani', 'said', 'Coast', 'tournament', 'November', 'Certified', 'c', 'US', 'Canberra', 'Wales', 'hydrogenated', 'trinitynews', 'Worker', 'towards', 'complaint', 'accessdate', 'election', 'NT', 'day', 'International', 'Aborigines', 'member', 'leader', 'helping', 'lot', 'Country', 'popularly', 'Dean', 'Cite', 'access', 'BURIDA', 'work', 'heritage', 'bathing', 'happily', 'look', 'www', 'C', 'lc', 'Strait', 'Research', 'professor', 'Monash', 'location', 'page', 'bare', 'self', 'National', 'usnews', 'first', 'Former', 'WholeFoods', 'wholefoodsmarket', 'international', 'Indigenous', 'historyoftechnology', 'Second', 'woman', 'Helène', 'archive', 'Aborigine', 'Boigny', 'WholeFoodsCompanyInfo', 'Jan', 'Discontent', 'Society', 'controversial', 'served', 'university', 'Competition', 'au', 'multinational', 'Kabore', 'newspaper', 'debating', 'Capital', 'judge', 'Kaboré', 'colleague', 'beaten', 'Election', 'Australian', 'Although', 'Council', 'top', 'guide', 'The', 'Market', 'Organic', 'Territory', 'THREE', 'nude', 'called', 'governance', 'spiritual', 'Monash_Debating_Review', 'three', 'Trove', 'Quality', 'American', 'Ivoire', 'communism', 'gov', 'en', 'Herald', 'burida', 'Making', 'Les', 'Info', 'one', 'authorlink', 'Culture', 'title', 'racist', 'jaensch', 'An', 'flavor', 'World', 'SEATS', 'led', 'Liberal', 'statement', 'Jackson', 'htm', 'warning', 'abolition', 'rival', 'wife', 'Houphouet', 'successful', 'Calls', 'th', 'nt', 'George', 'Food', 'Corporation', 'At', 'candidate', 'Intelligence', 'Kiénon', 'article', 'authority', 'issue', 'Debates', 'Ministry', 'New', 'needed', 'BLACK', 'ingredient', 'Côte', 'LABOR', 'Press', 'There', '__data', 'March', 'pr', 'Parliamentary', 'Whole', 'Hélène', 'Maluda', 'archaeologist', 'sick', 'http', 'world', 'May', 'among', 'Policy', 'slated', 'support', 'offered', 'Debating', 'division', 'Nazi', 'headquartered', 'South', 'ashtonc', 'February', 'standard', 'whole', 'chain', 'grocer', 'return', 'harv', 'Unit', 'married', 'selection', 'sit', 'net', 'language', 'Empire', 'Grocer', 'Legislative', 'competition', 'date', 'poll', 'program', 'Party', 'Tungutalum', 'politician', 'scandal', 'organic', 'live', 'participant', 'advisor', 'Sydney', 'Inc', 'since', 'Félix', 'History', 'Foods', 'claimed', 'Roman', 'artificial', 'Landmark', 'Bob', 'worker', 'future', 'Collins', 'asset', 'journal', 'defeated', 'product', 'Science', 'Labor', 'Scandal', 'Group', 'Jaensch', 'Assembly', 'arnh', 'vote', 'MP', 'Australia', 'back', 'amused', 'Tribune', 'States', 'Ivory', 'immigration', 'org', 'July', 'helene', 'declaring', 'McFarlane', 'parliament', 'undermine', 'A', 'pdf', 'Indian', 'preservative', 'Houphouët', 'August', 'store', 'u', 'United', 'call', 'IFRRO', 'round', 'blast', 'history', 'free', 'also', 'fall', 'advent', 'Kienon', 'He', 'Trinity', 'Technology', 'October', 'Northern', 'Parliament', 'mdr', 'website', 'Record', 'ie', 'April', 'kienon', 'seven', 'quality', 'News', 'Times', 'Islander', 'ca', 'SHOT', 'kabore', 'resulted', 'ivoire', 'death', 'E', 'Arnhem', 'honour', 'organised', 'via', 'Menace', 'communist', 'Doom', 'Felix', 'payment', 'Morning', 'propaganda', 'particular', 'nla', 'yet', 'image', 'jeopardizing', 'abc', 'threat', 'conservative', 'Texas', 'Université', 'Liberals', 'content', 'PR', 'archaeological', 'Francophonie', 'url', 'upon', 'Review', 'Antony', 'January', 'Kentish', 'would', 'say', 'debate', 'company', 'participation', 'Abidjan', 'As', 'University', 'news', 'legalising', 'book', 'Human', 'HISTORY', 'fat', 'America', 'com', 'Kingdom', 'life', 'exclusively', 'claim', 'narrowly', 'isbn', 'P', 'timpoko', 'people', 'moral', 'indigenous', 'publisher', 'Timpoko', 'Session', 'arch', 'name', 'politics', 'veraliah', 'Standards', 'ifrro', 'Independent', 'defeating', 'background', 'Darwin', 'CLP', 'nudity', 'Electoral', 'Bte', 'USDA', 'info', 'She', 'Torres', 'HAS', 'Green', 'soundly', 'scholar', 'Broadcasting', 'part', 'seminar', 'suitable', 'Hyacinth', 'Austin', 'ref', 'V', 'His', 'Oxford', 'supermarket', 'later', 'December', 'France', 'strike', 'web', 'North', 'Winunduj', 'status'}\n"
     ]
    }
   ],
   "source": [
    "print(set(remove(lemmatized_list)))"
   ]
  }
 ],
 "metadata": {
  "kernelspec": {
   "display_name": "Python 3",
   "language": "python",
   "name": "python3"
  },
  "language_info": {
   "codemirror_mode": {
    "name": "ipython",
    "version": 3
   },
   "file_extension": ".py",
   "mimetype": "text/x-python",
   "name": "python",
   "nbconvert_exporter": "python",
   "pygments_lexer": "ipython3",
   "version": "3.7.3"
  },
  "pycharm": {
   "stem_cell": {
    "cell_type": "raw",
    "metadata": {
     "collapsed": false
    },
    "source": []
   }
  }
 },
 "nbformat": 4,
 "nbformat_minor": 1
}
